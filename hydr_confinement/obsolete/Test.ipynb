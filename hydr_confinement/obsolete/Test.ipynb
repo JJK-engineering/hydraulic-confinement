{
 "cells": [
  {
   "cell_type": "code",
   "execution_count": 1,
   "metadata": {
    "collapsed": true,
    "scrolled": true
   },
   "outputs": [],
   "source": [
    "import pandas #as pd\n",
    "import os \n",
    "os.chdir(\"/home/kaelin_joseph/DSS.HydraulicConfinement/\")"
   ]
  },
  {
   "cell_type": "code",
   "execution_count": 2,
   "metadata": {
    "scrolled": true
   },
   "outputs": [
    {
     "name": "stdout",
     "output_type": "stream",
     "text": [
      "/home/kaelin_joseph/DataOrganizer/lib/python:\n",
      "['', '/home/kaelin_joseph/DataOrganizer/lib/python', '/home/kaelin_joseph/DSS.HydraulicConfinement/hydr_confinement', '/usr/lib/python2.7', '/usr/lib/python2.7/plat-x86_64-linux-gnu', '/usr/lib/python2.7/lib-tk', '/usr/lib/python2.7/lib-old', '/usr/lib/python2.7/lib-dynload', '/home/kaelin_joseph/.local/lib/python2.7/site-packages', '/usr/local/lib/python2.7/dist-packages', '/usr/lib/python2.7/dist-packages', '/usr/lib/python2.7/dist-packages/PILcompat', '/usr/lib/python2.7/dist-packages/gtk-2.0', '/usr/lib/python2.7/dist-packages/ubuntu-sso-client', '/usr/local/lib/python2.7/dist-packages/IPython/extensions', '/home/kaelin_joseph/.ipython']\n"
     ]
    }
   ],
   "source": [
    "import sys\n",
    "print(os.environ['PYTHONPATH'])\n",
    "print(sys.path)  #begins with 'PYTHONPATH'"
   ]
  },
  {
   "cell_type": "code",
   "execution_count": 3,
   "metadata": {
    "collapsed": true,
    "scrolled": true
   },
   "outputs": [],
   "source": [
    "# python setup for qgis processing (based on TunnelGIS configuration)\n",
    "import sys\n",
    "from qgis.core import *\n",
    "from PyQt4.QtGui import *\n",
    "\n",
    "##app = QApplication([], True)\n",
    "## second argument to False disables the GUI\n",
    "app = QApplication([], False)\n",
    "QgsApplication.setPrefixPath(\"/usr\", True)\n",
    "QgsApplication.initQgis()\n",
    "###QgsApplication.setPrefixPath(\"/usr\", True)\n",
    "###qgs = QgsApplication([], False)\n",
    "###qgs.initQgis()\n",
    "##sys.path.append('/usr/share/qgis/python')\n",
    "\n",
    "sys.path.append('/usr/share/qgis/python/plugins')\n",
    "from processing.core.Processing import Processing  #results in pandas runtime error\n",
    "Processing.initialize()\n",
    "from processing.tools import *\n",
    "import processing"
   ]
  },
  {
   "cell_type": "code",
   "execution_count": 4,
   "metadata": {
    "collapsed": true
   },
   "outputs": [],
   "source": [
    "##from qgis.core import *\n",
    "\n",
    "# supply path to qgis install location\n",
    "##QgsApplication.setPrefixPath(\"/usr\", True)\n",
    "\n",
    "# create a reference to the QgsApplication, setting the\n",
    "# second argument to False disables the GUI\n",
    "##qgs = QgsApplication([], False)\n",
    "\n",
    "# load providers\n",
    "##qgs.initQgis()\n",
    "\n",
    "# Write your code here to load some layers, use processing algorithms, etc.\n",
    "\n",
    "# When your script is complete, call exitQgis() to remove the provider and\n",
    "# layer registries from memory\n",
    "##qgs.exitQgis()"
   ]
  },
  {
   "cell_type": "code",
   "execution_count": 5,
   "metadata": {
    "collapsed": true
   },
   "outputs": [],
   "source": [
    "# system checking\n",
    "#import sys\n",
    "#print(geo.__name__)\n",
    "#print(dir(geo))\n",
    "#print(dir(geo.__builtins__))\n",
    "#print(dir(geo.__package__))\n",
    "#print(sys.getrefcount(sys))\n",
    "#sys.modules\n",
    "#del sys.modules['geospatial']\n",
    "#print(sys.getrefcount(sys))\n",
    "#print(os.environ['PYTHONPATH'])\n",
    "#print(sys.path)"
   ]
  },
  {
   "cell_type": "code",
   "execution_count": 6,
   "metadata": {
    "collapsed": true
   },
   "outputs": [],
   "source": [
    "# debugging\n",
    "#import pdb; pdb.set_trace()\n",
    "#pdb\n",
    "#  b usr/lib/python2.7/dist-packages/qgis/utils.pyc:609\n",
    "#  c(ontinue)\n",
    "#  b(reak) #show breakpoints"
   ]
  },
  {
   "cell_type": "code",
   "execution_count": 7,
   "metadata": {
    "scrolled": true
   },
   "outputs": [
    {
     "name": "stdout",
     "output_type": "stream",
     "text": [
      "/home/kaelin_joseph/DataOrganizer/lib/python:\n",
      "['', '/home/kaelin_joseph/DataOrganizer/lib/python', '/home/kaelin_joseph/DSS.HydraulicConfinement/hydr_confinement', '/usr/lib/python2.7', '/usr/lib/python2.7/plat-x86_64-linux-gnu', '/usr/lib/python2.7/lib-tk', '/usr/lib/python2.7/lib-old', '/usr/lib/python2.7/lib-dynload', '/home/kaelin_joseph/.local/lib/python2.7/site-packages', '/usr/local/lib/python2.7/dist-packages', '/usr/lib/python2.7/dist-packages', '/usr/lib/python2.7/dist-packages/PILcompat', '/usr/lib/python2.7/dist-packages/gtk-2.0', '/usr/lib/python2.7/dist-packages/ubuntu-sso-client', '/usr/local/lib/python2.7/dist-packages/IPython/extensions', '/home/kaelin_joseph/.ipython', '/usr/share/qgis/python/plugins']\n"
     ]
    }
   ],
   "source": [
    "print(os.environ['PYTHONPATH'])\n",
    "print(sys.path)  #begins with 'PYTHONPATH'\n",
    "###sys.path.append('/usr/share/qgis/python/plugins')\n",
    "###sys.path.append('/usr/share/qgis/python/plugins')\n",
    "###print(sys.path)"
   ]
  },
  {
   "cell_type": "code",
   "execution_count": 8,
   "metadata": {
    "scrolled": true
   },
   "outputs": [
    {
     "name": "stdout",
     "output_type": "stream",
     "text": [
      "\"Point\",\"Type\",\"Station\",\"Northing\",\"Easting\",\"Elevation\"\n",
      "\"0\",\"\",\"204874.1\",\"1269294.1221\",\"2612071.5482\",\"270.962\"\n",
      "\n"
     ]
    }
   ],
   "source": [
    "##fp = open(\"data/TestAlignment.p0.csv\", 'r')\n",
    "fp = open(\"data/Test.csv\", 'r')\n",
    "print(fp.read())\n",
    "fp.close()"
   ]
  },
  {
   "cell_type": "code",
   "execution_count": 9,
   "metadata": {
    "collapsed": true,
    "scrolled": false
   },
   "outputs": [],
   "source": [
    "#alignment_df = pd.read_csv(\"data/TestAlignment.p0.csv\")\n",
    "#alignment_df = pd.read_csv(\"data/Test.csv\")\n",
    "\n",
    "#import pdb; pdb.set_trace()\n",
    "#pdb hints\n",
    "#  s(step)  #small\n",
    "#  n(ext)\n",
    "##  b /usr/local/lib/python2.7/dist-packages/ipykernel/zmqshell.py:533\n",
    "#!  b /usr/local/lib/python2.7/dist-packages/IPython/core/interactiveshell.py:2819  #then next to 2822n, then step\n",
    "#  b /usr/local/lib/python2.7/dist-packages/pandas/io/common.py:151\n",
    "#  b /usr/lib/python2.7/dist-packages/py/_apipkg.py:143\n",
    "#  b /usr/lib/python2.7/dist-packages/py/_apipkg.py:48\n",
    "#!  b /usr/lib/python2.7/dist-packages/qgis/utils.py:609  #runs only once if processing not imported (but strange!!)\n",
    "                                                          #runs many, many times if processing not imported (error!!)\n",
    "#  c(ontinue)\n",
    "#  b(reak) #show breakpoints\n",
    "\n",
    "test_df = pandas.read_csv(\"data/Test.csv\")"
   ]
  },
  {
   "cell_type": "code",
   "execution_count": 10,
   "metadata": {
    "scrolled": true
   },
   "outputs": [
    {
     "data": {
      "text/html": [
       "<div>\n",
       "<style scoped>\n",
       "    .dataframe tbody tr th:only-of-type {\n",
       "        vertical-align: middle;\n",
       "    }\n",
       "\n",
       "    .dataframe tbody tr th {\n",
       "        vertical-align: top;\n",
       "    }\n",
       "\n",
       "    .dataframe thead th {\n",
       "        text-align: right;\n",
       "    }\n",
       "</style>\n",
       "<table border=\"1\" class=\"dataframe\">\n",
       "  <thead>\n",
       "    <tr style=\"text-align: right;\">\n",
       "      <th></th>\n",
       "      <th>Point</th>\n",
       "      <th>Type</th>\n",
       "      <th>Station</th>\n",
       "      <th>Northing</th>\n",
       "      <th>Easting</th>\n",
       "      <th>Elevation</th>\n",
       "    </tr>\n",
       "  </thead>\n",
       "  <tbody>\n",
       "    <tr>\n",
       "      <th>0</th>\n",
       "      <td>0</td>\n",
       "      <td>NaN</td>\n",
       "      <td>204874.1</td>\n",
       "      <td>1.269294e+06</td>\n",
       "      <td>2.612072e+06</td>\n",
       "      <td>270.962</td>\n",
       "    </tr>\n",
       "  </tbody>\n",
       "</table>\n",
       "</div>"
      ],
      "text/plain": [
       "   Point  Type   Station      Northing       Easting  Elevation\n",
       "0      0   NaN  204874.1  1.269294e+06  2.612072e+06    270.962"
      ]
     },
     "execution_count": 10,
     "metadata": {},
     "output_type": "execute_result"
    }
   ],
   "source": [
    "test_df"
   ]
  },
  {
   "cell_type": "code",
   "execution_count": 11,
   "metadata": {
    "collapsed": true,
    "scrolled": true
   },
   "outputs": [],
   "source": [
    "df = pandas.DataFrame({'Alphabet': ['a', 'b', 'c', 'd','e', 'f', 'g', 'h','i'],\n",
    "                   'A': [4, 3, 5, 2, 1, 7, 7, 5, 9],\n",
    "                   'B': [0, 4, 3, 6, 7, 10, 11, 9, 13],\n",
    "                   'C': [1, 2, 3, 1, 2, 3, 1, 2, 3]})\n"
   ]
  },
  {
   "cell_type": "code",
   "execution_count": 12,
   "metadata": {
    "scrolled": true
   },
   "outputs": [
    {
     "data": {
      "text/html": [
       "<div>\n",
       "<style scoped>\n",
       "    .dataframe tbody tr th:only-of-type {\n",
       "        vertical-align: middle;\n",
       "    }\n",
       "\n",
       "    .dataframe tbody tr th {\n",
       "        vertical-align: top;\n",
       "    }\n",
       "\n",
       "    .dataframe thead th {\n",
       "        text-align: right;\n",
       "    }\n",
       "</style>\n",
       "<table border=\"1\" class=\"dataframe\">\n",
       "  <thead>\n",
       "    <tr style=\"text-align: right;\">\n",
       "      <th></th>\n",
       "      <th>A</th>\n",
       "      <th>Alphabet</th>\n",
       "      <th>B</th>\n",
       "      <th>C</th>\n",
       "    </tr>\n",
       "  </thead>\n",
       "  <tbody>\n",
       "    <tr>\n",
       "      <th>0</th>\n",
       "      <td>4</td>\n",
       "      <td>a</td>\n",
       "      <td>0</td>\n",
       "      <td>1</td>\n",
       "    </tr>\n",
       "    <tr>\n",
       "      <th>1</th>\n",
       "      <td>3</td>\n",
       "      <td>b</td>\n",
       "      <td>4</td>\n",
       "      <td>2</td>\n",
       "    </tr>\n",
       "    <tr>\n",
       "      <th>2</th>\n",
       "      <td>5</td>\n",
       "      <td>c</td>\n",
       "      <td>3</td>\n",
       "      <td>3</td>\n",
       "    </tr>\n",
       "    <tr>\n",
       "      <th>3</th>\n",
       "      <td>2</td>\n",
       "      <td>d</td>\n",
       "      <td>6</td>\n",
       "      <td>1</td>\n",
       "    </tr>\n",
       "    <tr>\n",
       "      <th>4</th>\n",
       "      <td>1</td>\n",
       "      <td>e</td>\n",
       "      <td>7</td>\n",
       "      <td>2</td>\n",
       "    </tr>\n",
       "    <tr>\n",
       "      <th>5</th>\n",
       "      <td>7</td>\n",
       "      <td>f</td>\n",
       "      <td>10</td>\n",
       "      <td>3</td>\n",
       "    </tr>\n",
       "    <tr>\n",
       "      <th>6</th>\n",
       "      <td>7</td>\n",
       "      <td>g</td>\n",
       "      <td>11</td>\n",
       "      <td>1</td>\n",
       "    </tr>\n",
       "    <tr>\n",
       "      <th>7</th>\n",
       "      <td>5</td>\n",
       "      <td>h</td>\n",
       "      <td>9</td>\n",
       "      <td>2</td>\n",
       "    </tr>\n",
       "    <tr>\n",
       "      <th>8</th>\n",
       "      <td>9</td>\n",
       "      <td>i</td>\n",
       "      <td>13</td>\n",
       "      <td>3</td>\n",
       "    </tr>\n",
       "  </tbody>\n",
       "</table>\n",
       "</div>"
      ],
      "text/plain": [
       "   A Alphabet   B  C\n",
       "0  4        a   0  1\n",
       "1  3        b   4  2\n",
       "2  5        c   3  3\n",
       "3  2        d   6  1\n",
       "4  1        e   7  2\n",
       "5  7        f  10  3\n",
       "6  7        g  11  1\n",
       "7  5        h   9  2\n",
       "8  9        i  13  3"
      ]
     },
     "execution_count": 12,
     "metadata": {},
     "output_type": "execute_result"
    }
   ],
   "source": [
    "df"
   ]
  },
  {
   "cell_type": "code",
   "execution_count": null,
   "metadata": {
    "collapsed": true,
    "scrolled": true
   },
   "outputs": [],
   "source": []
  }
 ],
 "metadata": {
  "kernelspec": {
   "display_name": "Python 2",
   "language": "python",
   "name": "python2"
  },
  "language_info": {
   "codemirror_mode": {
    "name": "ipython",
    "version": 2
   },
   "file_extension": ".py",
   "mimetype": "text/x-python",
   "name": "python",
   "nbconvert_exporter": "python",
   "pygments_lexer": "ipython2",
   "version": "2.7.12"
  }
 },
 "nbformat": 4,
 "nbformat_minor": 2
}
