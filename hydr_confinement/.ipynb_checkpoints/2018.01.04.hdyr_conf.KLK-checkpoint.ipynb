{
 "cells": [
  {
   "cell_type": "code",
   "execution_count": 1,
   "metadata": {
    "collapsed": true
   },
   "outputs": [],
   "source": [
    "# python setup for qgis processing\n",
    "\n",
    "import sys\n",
    "from qgis.core import *\n",
    "# need qgis,gui ?\n",
    "#from qgis.gui import *\n",
    "# need PyQt4.QtCore ?\n",
    "#from PyQt4.QtCore import *\n",
    "from PyQt4.QtGui import *\n",
    "\n",
    "# what does True refer to below ?\n",
    "app = QApplication([], True)\n",
    "QgsApplication.setPrefixPath(\"/usr\", True)\n",
    "# /usr correct?\n",
    "#QgsApplication.setPrefixPath(qgis_path, True)\n",
    "QgsApplication.initQgis()\n",
    "\n",
    "sys.path.append('/usr/share/qgis/python/plugins')\n",
    "from processing.core.Processing import Processing\n",
    "Processing.initialize()\n",
    "from processing.tools import *\n",
    "\n",
    "#why is this still needed?\n",
    "import processing"
   ]
  },
  {
   "cell_type": "code",
   "execution_count": 2,
   "metadata": {
    "collapsed": true
   },
   "outputs": [],
   "source": [
    "# ----------------------------------------------------------------------------------------------------------------\n",
    "# description\n",
    "# ----------------------------------------------------------------------------------------------------------------\n",
    "\n",
    "#!/usr/bin/python\n",
    "# TunnelExcavationData.py\n",
    "\n",
    "# Python procedure for TunnelGIS Engineering App\n",
    "# Author: KK\n",
    "# Date: 01.04.2017\n",
    "\n",
    "# Purpose of this procedure:\n",
    "# 1. Prepare input data ....\n",
    "# 2.\n",
    "# 3.\n",
    "# 4. \n",
    "# 5. \n",
    "\n",
    "# This python routine is a script, intended to guide the user through the described procedure.\n",
    "# As a script, the procedure does not generally include data validation and error handling.\n",
    "# Users are expected to understand and adjust the code as needed for their application.\n",
    "\n",
    "# Required Input Files:\n",
    "#   \"WORK/swissalti3dgeotifflv03-5m/swissALTI3D_.tif\"   -DEM with surface topography\n",
    "#   \"WORK/Felsisohypsen-raster.tif\"                     -DEM with rock surface\n",
    "#   \"WORK/OstrohrR2.csv\"                                -stationed tunnel alignment#\n",
    "#   \"WORK/Ostroehre.TunnelLayoutData.R2.csv\"            -tunnel layout data\n",
    "\n",
    "# References:\n",
    "# http://gis.stackexchange.com/questions/197825/how-to-convert-multiple-csv-files-to-shp-using-python-and-no-arcpy\n",
    "# to get grass help:   processing.alghelp(\"grass7:r.what.points\")\n",
    "\n",
    "# IMPORTANT: requires qgis setup before running this procedure\n",
    "# run ./pyqgis.sh from command line before starting python (or set up IDE accordingly)"
   ]
  },
  {
   "cell_type": "code",
   "execution_count": 3,
   "metadata": {
    "collapsed": true
   },
   "outputs": [],
   "source": [
    "# ----------------------------------------------------------------------------------------------------------------\n",
    "# import required libraries\n",
    "# ----------------------------------------------------------------------------------------------------------------\n",
    "\n",
    "import pandas as pd\n",
    "import numpy as np\n",
    "import geopandas as gpd\n",
    "import shapely as sp\n",
    "import os \n",
    "\n",
    "import matplotlib.pylab as pylab\n",
    "import matplotlib.pyplot as plt\n",
    "%matplotlib inline\n",
    "# With this backend, the output of plotting commands is displayed inline within frontends \n",
    "# like the Jupyter notebook, directly below the code cell that produced it. \n",
    "# The resulting plots will then also be stored in the notebook document.\n",
    "# http://ipython.readthedocs.io/en/stable/interactive/plotting.html"
   ]
  },
  {
   "cell_type": "code",
   "execution_count": 4,
   "metadata": {
    "collapsed": true
   },
   "outputs": [],
   "source": [
    "# ----------------------------------------------------------------------------------------------------------------\n",
    "# set wd for this procedure \n",
    "# ----------------------------------------------------------------------------------------------------------------\n",
    "os.chdir(\"/home/kaelin_joseph/DSS.HydraulicConfinement/\")"
   ]
  },
  {
   "cell_type": "code",
   "execution_count": 5,
   "metadata": {
    "collapsed": true
   },
   "outputs": [],
   "source": [
    "# ----------------------------------------------------------------------------------------------------------------\n",
    "# define input files\n",
    "# ----------------------------------------------------------------------------------------------------------------\n",
    "\n",
    "DTM = \"WORK/swissalti3dgeotifflv03-5m/swissALTI3D_.tif\"  \n",
    "RockSurface = \"WORK/Felsisohypsen-raster.tif\"            \n",
    "AlignmentData = \"WORK/HRT.AlignmentData.P0.csv\"\n",
    "LayoutData = \"WORK/Ostroehre.TunnelLayoutData.R2.csv\"\n",
    "buffer_SHP = \"WORK/buffer.shp\""
   ]
  },
  {
   "cell_type": "code",
   "execution_count": 6,
   "metadata": {
    "collapsed": true
   },
   "outputs": [],
   "source": [
    "# ----------------------------------------------------------------------------------------------------------------\n",
    "# define output files\n",
    "# ----------------------------------------------------------------------------------------------------------------\n",
    "\n",
    "TunnelExcavationData = \"WORK/Ostroehre.TunnelExcavationData.R2.csv\"\n",
    "# headers: Station, Easting, Northing, Elevation, DTM, RockSurface, StationReal, RockCover,\n",
    "#          WBScode, WorkType, ExcavationType, ProfileType, SectionArea, Description,\n",
    "#          BoreClass, SupportClass, DisposalClass, StationInterval, ExcavationVolume, DisposalVolume\n",
    "Alignment_SHP ='WORK/Ostroehre.Alignment.R2.shp'\n",
    "BoQ = \"WORK/Ostroehre.TunnelBoQdata.R2.csv\"\n",
    "# temporary data\n",
    "Alignment_DTM = \"WORK/Ostroehre.Terrain.R2.csv\"\n",
    "Alignment_RockSurface = \"WORK/Ostroehre.RockSurface.R2.csv\"  # JK ToDo: RockSurface?\n",
    "AlignmentDataLine = \"WORK/HRT.AlignmentData.P0.Line.shp\"\n",
    "AlignmentDataPoint= \"WORK/HRT.AlignmentData.P0.Point.shp\""
   ]
  },
  {
   "cell_type": "code",
   "execution_count": 7,
   "metadata": {
    "collapsed": true
   },
   "outputs": [],
   "source": [
    "# ----------------------------------------------------------------------------------------------------------------\n",
    "# create alignment_df (dataframe) from .csv\n",
    "# Important: Before the df is created the data should be checked.\n",
    "#   E.g. make sure that it does not contain trailing blank lines and that duplicate lines are deleted.\n",
    "# result: alignment_df\n",
    "# ----------------------------------------------------------------------------------------------------------------\n",
    "\n",
    "alignment_df = pd.read_csv(AlignmentData)\n",
    "#delete row if only NA are present in row\n",
    "alignment_df = alignment_df.dropna(how = \"all\")\n",
    "# round alignment_df to three decimals\n",
    "alignment_df = alignment_df.round(decimals=3)"
   ]
  },
  {
   "cell_type": "code",
   "execution_count": 8,
   "metadata": {},
   "outputs": [
    {
     "data": {
      "text/html": [
       "<div>\n",
       "<table border=\"1\" class=\"dataframe\">\n",
       "  <thead>\n",
       "    <tr style=\"text-align: right;\">\n",
       "      <th></th>\n",
       "      <th>Point</th>\n",
       "      <th>Type</th>\n",
       "      <th>Station</th>\n",
       "      <th>Northing</th>\n",
       "      <th>Easting</th>\n",
       "      <th>Elevation</th>\n",
       "    </tr>\n",
       "  </thead>\n",
       "  <tbody>\n",
       "    <tr>\n",
       "      <th>0</th>\n",
       "      <td>0</td>\n",
       "      <td>NaN</td>\n",
       "      <td>204+874.1</td>\n",
       "      <td>1269294.122</td>\n",
       "      <td>2612071.548</td>\n",
       "      <td>270.962</td>\n",
       "    </tr>\n",
       "    <tr>\n",
       "      <th>1</th>\n",
       "      <td>221</td>\n",
       "      <td>PT</td>\n",
       "      <td>205+389.861</td>\n",
       "      <td>1269029.594</td>\n",
       "      <td>2612426.331</td>\n",
       "      <td>253.058</td>\n",
       "    </tr>\n",
       "    <tr>\n",
       "      <th>2</th>\n",
       "      <td>EC10:3</td>\n",
       "      <td>EC</td>\n",
       "      <td>209+528.128</td>\n",
       "      <td>1265960.779</td>\n",
       "      <td>2614558.633</td>\n",
       "      <td>268.579</td>\n",
       "    </tr>\n",
       "  </tbody>\n",
       "</table>\n",
       "</div>"
      ],
      "text/plain": [
       "    Point Type      Station     Northing      Easting  Elevation\n",
       "0       0  NaN    204+874.1  1269294.122  2612071.548    270.962\n",
       "1     221   PT  205+389.861  1269029.594  2612426.331    253.058\n",
       "2  EC10:3   EC  209+528.128  1265960.779  2614558.633    268.579"
      ]
     },
     "execution_count": 8,
     "metadata": {},
     "output_type": "execute_result"
    }
   ],
   "source": [
    "alignment_df"
   ]
  },
  {
   "cell_type": "code",
   "execution_count": 9,
   "metadata": {
    "collapsed": true
   },
   "outputs": [],
   "source": [
    "# ----------------------------------------------------------------------------------------------------------------\n",
    "# create layout_df from .csv\n",
    "# result: layout_df\n",
    "# ----------------------------------------------------------------------------------------------------------------\n",
    "\n",
    "layout_df = pd.read_csv(LayoutData)\n",
    "# round layout_df to three decimals\n",
    "layout_df = layout_df.round(decimals=3)"
   ]
  },
  {
   "cell_type": "code",
   "execution_count": 10,
   "metadata": {
    "collapsed": true
   },
   "outputs": [],
   "source": [
    "#layout_df"
   ]
  },
  {
   "cell_type": "code",
   "execution_count": 11,
   "metadata": {},
   "outputs": [
    {
     "name": "stdout",
     "output_type": "stream",
     "text": [
      "creating df header StationReal\n"
     ]
    }
   ],
   "source": [
    "# ----------------------------------------------------------------------------------------------------------------\n",
    "# convert alignment_df[\"Station\"] => alignment_df[\"StationReal\"] and same for layout_df\n",
    "# result: alignment_Station_list, layout_Station_list\n",
    "#         alignment_df[\"StationReal\"], layout_df[\"StationReal\"]\n",
    "print \"creating df header StationReal\"\n",
    "# ----------------------------------------------------------------------------------------------------------------\n",
    "\n",
    "alignment_Station_list = alignment_df[\"Station\"].tolist()\n",
    "    # check: len(alignment_Station_list)\n",
    "\n",
    "alignment_df[\"StationReal\"] = np.nan\n",
    "\n",
    "for n in range(0, len(alignment_Station_list)):\n",
    "    station_sel = alignment_df.iloc[n][\"Station\"]\n",
    "    station_real_sel = float(station_sel.replace(\"+\",\"\"))\n",
    "    alignment_df.iloc[n, alignment_df.columns.get_loc(\"StationReal\")] = station_real_sel\n",
    "    # alignment_df.columns.get_loc(\"StationReal\") = 5\n",
    "\n",
    "# layout_df[\"Station\"] => layout_df[\"StationReal\"] \n",
    "layout_Station_list = layout_df[\"Station\"].tolist()\n",
    "    # check: len(layout_Station_list)\n",
    "\n",
    "layout_df[\"StationReal\"] = np.nan\n",
    "\n",
    "for n in range(0, len(layout_Station_list)):\n",
    "    station_sel = layout_df.iloc[n][\"Station\"]\n",
    "    station_real_sel = float(station_sel.replace(\"+\",\"\"))\n",
    "    layout_df.iloc[n, layout_df.columns.get_loc(\"StationReal\")] \\\n",
    "        = station_real_sel"
   ]
  },
  {
   "cell_type": "code",
   "execution_count": 12,
   "metadata": {},
   "outputs": [
    {
     "data": {
      "text/plain": [
       "{'output': 'WORK/HRT.AlignmentData.P0.Point.shp'}"
      ]
     },
     "execution_count": 12,
     "metadata": {},
     "output_type": "execute_result"
    }
   ],
   "source": [
    "# create line (representing alignment) from points in alignment_df\n",
    "\n",
    "# grass input for function v.in.line 1) has to have x first and y second and 2) cannot read file with header \n",
    "# x first and y second\n",
    "alignment_df__p = alignment_df.loc[:,[\"Easting\", \"Northing\"]] \n",
    "# no header\n",
    "alignment_df__p.to_csv('WORK/alignment_df__p.csv', header=False, index=False)\n",
    "\n",
    "# point to lines\n",
    "processing.runalg(\"grass7:v.in.lines\",\"WORK/alignment_df__p.csv\",\",\",False,\n",
    "                  \"2605158.67928,2621471.50192,1265877.44552,1269377.45567\",0,AlignmentDataLine)\n",
    "\n",
    "# lines to points\n",
    "processing.runalg(\"grass7:v.to.points\",AlignmentDataLine,\"100\",1,True,\n",
    "                  \"2603510,2624270,1260650,1274890\",-1,0.0001,0,AlignmentDataPoint)"
   ]
  },
  {
   "cell_type": "code",
   "execution_count": 13,
   "metadata": {},
   "outputs": [
    {
     "name": "stdout",
     "output_type": "stream",
     "text": [
      "    Point Type      Station     Northing      Easting  Elevation  StationReal  \\\n",
      "0       0  NaN    204+874.1  1269294.122  2612071.548    270.962   204874.100   \n",
      "1     221   PT  205+389.861  1269029.594  2612426.331    253.058   205389.861   \n",
      "2  EC10:3   EC  209+528.128  1265960.779  2614558.633    268.579   209528.128   \n",
      "\n",
      "                          geometry  \n",
      "0  POINT (2612071.548 1269294.122)  \n",
      "1  POINT (2612426.331 1269029.594)  \n",
      "2  POINT (2614558.633 1265960.779)  \n"
     ]
    }
   ],
   "source": [
    "# ----------------------------------------------------------------------------------------------------------------\n",
    "# create Alignment_spatial from alignment_df\n",
    "# result: Alignment_SHP\n",
    "# ----------------------------------------------------------------------------------------------------------------\n",
    "\n",
    "Alignment_spatial_points = [sp.geometry.Point(row['Easting'], row['Northing'])\n",
    "                            for key, row in alignment_df.iterrows()]\n",
    "Alignment_crs = {'init': 'epsg:2056'}  #define crs\n",
    "Alignment_spatial = gpd.GeoDataFrame(alignment_df, geometry=Alignment_spatial_points, crs = Alignment_crs)\n",
    "Alignment_spatial.to_file(Alignment_SHP, driver='ESRI Shapefile') \n",
    "\n",
    "print(Alignment_spatial)"
   ]
  },
  {
   "cell_type": "code",
   "execution_count": 16,
   "metadata": {},
   "outputs": [
    {
     "data": {
      "image/png": "[encoded data removed]",
      "text/plain": [
       "<matplotlib.figure.Figure at 0x7fcda8040dd0>"
      ]
     },
     "metadata": {},
     "output_type": "display_data"
    }
   ],
   "source": [
    "# plot result\n",
    "# See reference: http://nbviewer.jupyter.org/gist/perrygeo/c426355e40037c452434\n",
    "\n",
    "pylab.rcParams['figure.figsize'] = 13.5, 9\n",
    "\n",
    "# get data to plot\n",
    "line = gpd.GeoDataFrame.from_file(AlignmentDataLine)\n",
    "point1 = gpd.GeoDataFrame.from_file(Alignment_SHP)\n",
    "point2 = gpd.GeoDataFrame.from_file(AlignmentDataPoint)\n",
    "\n",
    "# plot\n",
    "base = line.plot(color='black')\n",
    "point1.plot(ax=base, marker='o', color='red', markersize=10,  markeredgewidth=0.0);\n",
    "point2.plot(ax=base, marker='*', color='blue', markersize=10, markeredgewidth=0.0);\n"
   ]
  },
  {
   "cell_type": "code",
   "execution_count": 28,
   "metadata": {},
   "outputs": [
    {
     "data": {
      "text/html": [
       "<div>\n",
       "<table border=\"1\" class=\"dataframe\">\n",
       "  <thead>\n",
       "    <tr style=\"text-align: right;\">\n",
       "      <th></th>\n",
       "      <th>cat_</th>\n",
       "      <th>geometry</th>\n",
       "    </tr>\n",
       "  </thead>\n",
       "  <tbody>\n",
       "    <tr>\n",
       "      <th>0</th>\n",
       "      <td>1</td>\n",
       "      <td>POINT (2612071.548 1269294.122)</td>\n",
       "    </tr>\n",
       "    <tr>\n",
       "      <th>1</th>\n",
       "      <td>1</td>\n",
       "      <td>POINT (2612142.5046 1269241.2164)</td>\n",
       "    </tr>\n",
       "    <tr>\n",
       "      <th>2</th>\n",
       "      <td>1</td>\n",
       "      <td>POINT (2612213.4612 1269188.3108)</td>\n",
       "    </tr>\n",
       "    <tr>\n",
       "      <th>3</th>\n",
       "      <td>1</td>\n",
       "      <td>POINT (2612284.4178 1269135.4052)</td>\n",
       "    </tr>\n",
       "    <tr>\n",
       "      <th>4</th>\n",
       "      <td>1</td>\n",
       "      <td>POINT (2612355.3744 1269082.4996)</td>\n",
       "    </tr>\n",
       "    <tr>\n",
       "      <th>5</th>\n",
       "      <td>1</td>\n",
       "      <td>POINT (2612426.331 1269029.594)</td>\n",
       "    </tr>\n",
       "    <tr>\n",
       "      <th>6</th>\n",
       "      <td>1</td>\n",
       "      <td>POINT (2612482.444210526 1268948.835710526)</td>\n",
       "    </tr>\n",
       "    <tr>\n",
       "      <th>7</th>\n",
       "      <td>1</td>\n",
       "      <td>POINT (2612538.557421052 1268868.077421053)</td>\n",
       "    </tr>\n",
       "    <tr>\n",
       "      <th>8</th>\n",
       "      <td>1</td>\n",
       "      <td>POINT (2612594.670631579 1268787.319131579)</td>\n",
       "    </tr>\n",
       "    <tr>\n",
       "      <th>9</th>\n",
       "      <td>1</td>\n",
       "      <td>POINT (2612650.783842105 1268706.560842105)</td>\n",
       "    </tr>\n",
       "    <tr>\n",
       "      <th>10</th>\n",
       "      <td>1</td>\n",
       "      <td>POINT (2612706.897052631 1268625.802552632)</td>\n",
       "    </tr>\n",
       "    <tr>\n",
       "      <th>11</th>\n",
       "      <td>1</td>\n",
       "      <td>POINT (2612763.010263158 1268545.044263158)</td>\n",
       "    </tr>\n",
       "    <tr>\n",
       "      <th>12</th>\n",
       "      <td>1</td>\n",
       "      <td>POINT (2612819.123473684 1268464.285973684)</td>\n",
       "    </tr>\n",
       "    <tr>\n",
       "      <th>13</th>\n",
       "      <td>1</td>\n",
       "      <td>POINT (2612875.23668421 1268383.527684211)</td>\n",
       "    </tr>\n",
       "    <tr>\n",
       "      <th>14</th>\n",
       "      <td>1</td>\n",
       "      <td>POINT (2612931.349894736 1268302.769394737)</td>\n",
       "    </tr>\n",
       "    <tr>\n",
       "      <th>15</th>\n",
       "      <td>1</td>\n",
       "      <td>POINT (2612987.463105263 1268222.011105263)</td>\n",
       "    </tr>\n",
       "    <tr>\n",
       "      <th>16</th>\n",
       "      <td>1</td>\n",
       "      <td>POINT (2613043.576315789 1268141.25281579)</td>\n",
       "    </tr>\n",
       "    <tr>\n",
       "      <th>17</th>\n",
       "      <td>1</td>\n",
       "      <td>POINT (2613099.689526316 1268060.494526316)</td>\n",
       "    </tr>\n",
       "    <tr>\n",
       "      <th>18</th>\n",
       "      <td>1</td>\n",
       "      <td>POINT (2613155.802736842 1267979.736236842)</td>\n",
       "    </tr>\n",
       "    <tr>\n",
       "      <th>19</th>\n",
       "      <td>1</td>\n",
       "      <td>POINT (2613211.915947368 1267898.977947369)</td>\n",
       "    </tr>\n",
       "    <tr>\n",
       "      <th>20</th>\n",
       "      <td>1</td>\n",
       "      <td>POINT (2613268.029157895 1267818.219657895)</td>\n",
       "    </tr>\n",
       "    <tr>\n",
       "      <th>21</th>\n",
       "      <td>1</td>\n",
       "      <td>POINT (2613324.142368421 1267737.461368421)</td>\n",
       "    </tr>\n",
       "    <tr>\n",
       "      <th>22</th>\n",
       "      <td>1</td>\n",
       "      <td>POINT (2613380.255578947 1267656.703078947)</td>\n",
       "    </tr>\n",
       "    <tr>\n",
       "      <th>23</th>\n",
       "      <td>1</td>\n",
       "      <td>POINT (2613436.368789474 1267575.944789474)</td>\n",
       "    </tr>\n",
       "    <tr>\n",
       "      <th>24</th>\n",
       "      <td>1</td>\n",
       "      <td>POINT (2613492.482 1267495.1865)</td>\n",
       "    </tr>\n",
       "    <tr>\n",
       "      <th>25</th>\n",
       "      <td>1</td>\n",
       "      <td>POINT (2613548.595210526 1267414.428210526)</td>\n",
       "    </tr>\n",
       "    <tr>\n",
       "      <th>26</th>\n",
       "      <td>1</td>\n",
       "      <td>POINT (2613604.708421052 1267333.669921053)</td>\n",
       "    </tr>\n",
       "    <tr>\n",
       "      <th>27</th>\n",
       "      <td>1</td>\n",
       "      <td>POINT (2613660.821631579 1267252.911631579)</td>\n",
       "    </tr>\n",
       "    <tr>\n",
       "      <th>28</th>\n",
       "      <td>1</td>\n",
       "      <td>POINT (2613716.934842105 1267172.153342105)</td>\n",
       "    </tr>\n",
       "    <tr>\n",
       "      <th>29</th>\n",
       "      <td>1</td>\n",
       "      <td>POINT (2613773.048052631 1267091.395052632)</td>\n",
       "    </tr>\n",
       "    <tr>\n",
       "      <th>30</th>\n",
       "      <td>1</td>\n",
       "      <td>POINT (2613829.161263158 1267010.636763158)</td>\n",
       "    </tr>\n",
       "    <tr>\n",
       "      <th>31</th>\n",
       "      <td>1</td>\n",
       "      <td>POINT (2613885.274473684 1266929.878473684)</td>\n",
       "    </tr>\n",
       "    <tr>\n",
       "      <th>32</th>\n",
       "      <td>1</td>\n",
       "      <td>POINT (2613941.38768421 1266849.120184211)</td>\n",
       "    </tr>\n",
       "    <tr>\n",
       "      <th>33</th>\n",
       "      <td>1</td>\n",
       "      <td>POINT (2613997.500894736 1266768.361894737)</td>\n",
       "    </tr>\n",
       "    <tr>\n",
       "      <th>34</th>\n",
       "      <td>1</td>\n",
       "      <td>POINT (2614053.614105263 1266687.603605263)</td>\n",
       "    </tr>\n",
       "    <tr>\n",
       "      <th>35</th>\n",
       "      <td>1</td>\n",
       "      <td>POINT (2614109.72731579 1266606.84531579)</td>\n",
       "    </tr>\n",
       "    <tr>\n",
       "      <th>36</th>\n",
       "      <td>1</td>\n",
       "      <td>POINT (2614165.840526316 1266526.087026316)</td>\n",
       "    </tr>\n",
       "    <tr>\n",
       "      <th>37</th>\n",
       "      <td>1</td>\n",
       "      <td>POINT (2614221.953736842 1266445.328736842)</td>\n",
       "    </tr>\n",
       "    <tr>\n",
       "      <th>38</th>\n",
       "      <td>1</td>\n",
       "      <td>POINT (2614278.066947368 1266364.570447369)</td>\n",
       "    </tr>\n",
       "    <tr>\n",
       "      <th>39</th>\n",
       "      <td>1</td>\n",
       "      <td>POINT (2614334.180157895 1266283.812157895)</td>\n",
       "    </tr>\n",
       "    <tr>\n",
       "      <th>40</th>\n",
       "      <td>1</td>\n",
       "      <td>POINT (2614390.293368421 1266203.053868421)</td>\n",
       "    </tr>\n",
       "    <tr>\n",
       "      <th>41</th>\n",
       "      <td>1</td>\n",
       "      <td>POINT (2614446.406578947 1266122.295578948)</td>\n",
       "    </tr>\n",
       "    <tr>\n",
       "      <th>42</th>\n",
       "      <td>1</td>\n",
       "      <td>POINT (2614502.519789474 1266041.537289474)</td>\n",
       "    </tr>\n",
       "    <tr>\n",
       "      <th>43</th>\n",
       "      <td>1</td>\n",
       "      <td>POINT (2614558.633 1265960.779)</td>\n",
       "    </tr>\n",
       "  </tbody>\n",
       "</table>\n",
       "</div>"
      ],
      "text/plain": [
       "    cat_                                     geometry\n",
       "0      1              POINT (2612071.548 1269294.122)\n",
       "1      1            POINT (2612142.5046 1269241.2164)\n",
       "2      1            POINT (2612213.4612 1269188.3108)\n",
       "3      1            POINT (2612284.4178 1269135.4052)\n",
       "4      1            POINT (2612355.3744 1269082.4996)\n",
       "5      1              POINT (2612426.331 1269029.594)\n",
       "6      1  POINT (2612482.444210526 1268948.835710526)\n",
       "7      1  POINT (2612538.557421052 1268868.077421053)\n",
       "8      1  POINT (2612594.670631579 1268787.319131579)\n",
       "9      1  POINT (2612650.783842105 1268706.560842105)\n",
       "10     1  POINT (2612706.897052631 1268625.802552632)\n",
       "11     1  POINT (2612763.010263158 1268545.044263158)\n",
       "12     1  POINT (2612819.123473684 1268464.285973684)\n",
       "13     1   POINT (2612875.23668421 1268383.527684211)\n",
       "14     1  POINT (2612931.349894736 1268302.769394737)\n",
       "15     1  POINT (2612987.463105263 1268222.011105263)\n",
       "16     1   POINT (2613043.576315789 1268141.25281579)\n",
       "17     1  POINT (2613099.689526316 1268060.494526316)\n",
       "18     1  POINT (2613155.802736842 1267979.736236842)\n",
       "19     1  POINT (2613211.915947368 1267898.977947369)\n",
       "20     1  POINT (2613268.029157895 1267818.219657895)\n",
       "21     1  POINT (2613324.142368421 1267737.461368421)\n",
       "22     1  POINT (2613380.255578947 1267656.703078947)\n",
       "23     1  POINT (2613436.368789474 1267575.944789474)\n",
       "24     1             POINT (2613492.482 1267495.1865)\n",
       "25     1  POINT (2613548.595210526 1267414.428210526)\n",
       "26     1  POINT (2613604.708421052 1267333.669921053)\n",
       "27     1  POINT (2613660.821631579 1267252.911631579)\n",
       "28     1  POINT (2613716.934842105 1267172.153342105)\n",
       "29     1  POINT (2613773.048052631 1267091.395052632)\n",
       "30     1  POINT (2613829.161263158 1267010.636763158)\n",
       "31     1  POINT (2613885.274473684 1266929.878473684)\n",
       "32     1   POINT (2613941.38768421 1266849.120184211)\n",
       "33     1  POINT (2613997.500894736 1266768.361894737)\n",
       "34     1  POINT (2614053.614105263 1266687.603605263)\n",
       "35     1    POINT (2614109.72731579 1266606.84531579)\n",
       "36     1  POINT (2614165.840526316 1266526.087026316)\n",
       "37     1  POINT (2614221.953736842 1266445.328736842)\n",
       "38     1  POINT (2614278.066947368 1266364.570447369)\n",
       "39     1  POINT (2614334.180157895 1266283.812157895)\n",
       "40     1  POINT (2614390.293368421 1266203.053868421)\n",
       "41     1  POINT (2614446.406578947 1266122.295578948)\n",
       "42     1  POINT (2614502.519789474 1266041.537289474)\n",
       "43     1              POINT (2614558.633 1265960.779)"
      ]
     },
     "execution_count": 28,
     "metadata": {},
     "output_type": "execute_result"
    }
   ],
   "source": [
    "#point2"
   ]
  },
  {
   "cell_type": "code",
   "execution_count": 26,
   "metadata": {},
   "outputs": [
    {
     "name": "stdout",
     "output_type": "stream",
     "text": [
      "get raster values\n",
      "Warning: Not all input layers use the same CRS.\n",
      "This can cause unexpected results.\n"
     ]
    },
    {
     "data": {
      "text/plain": [
       "{'output': 'WORK/Ostroehre.RockSurface.R2.csv'}"
      ]
     },
     "execution_count": 26,
     "metadata": {},
     "output_type": "execute_result"
    }
   ],
   "source": [
    "# use grass7:r.what.points to get point coords x,y,z along stationed alignment\n",
    "\n",
    "# ----------------------------------------------------------------------------------------------------------------\n",
    "# use grass functions to get raster values for points along tunnel axis and write to .csv files\n",
    "# result: Alignment_DTM, Alignment_RockSurface\n",
    "print \"get raster values\"\n",
    "# ----------------------------------------------------------------------------------------------------------------\n",
    "\n",
    "# Alignment_DTM\n",
    "# use grass7:r.what.points to get point coords x,y,z along stationed alignment\n",
    "processing.runalg(\n",
    "                  #\"grass7:r.what.points\",DTM,Alignment_SHP,\n",
    "                  \"grass7:r.what.points\",DTM,AlignmentDataPoint,\n",
    "                  \"NA\",\",\",500,True,False,False,False,False,\n",
    "                  \"2603510.0,2624270.0,1260650.0,1274890.0\",-1,0.0001,Alignment_DTM\n",
    "                 )\n",
    "# Alignment_RockSurface                  \n",
    "###processing.runalg(\"grass7:r.what.points\",RockSurface,Alignment_SHP,\n",
    "###                  \"NA\",\",\",500, True,False,False,False,False,\n",
    "###                  \"2603510.0,2624270.0,1260650.0,1274890.0\",-1,0.0001,Alignment_RockSurface)\n",
    "## warning: Not all input layers use the same CRS -> data seems OK\n",
    "    # check:  Alginemnt_spatial.crs"
   ]
  },
  {
   "cell_type": "code",
   "execution_count": null,
   "metadata": {
    "collapsed": true
   },
   "outputs": [],
   "source": []
  },
  {
   "cell_type": "code",
   "execution_count": 18,
   "metadata": {},
   "outputs": [
    {
     "name": "stdout",
     "output_type": "stream",
     "text": [
      "buffer: [2612060 1268065]\n",
      "r: 55.0\n",
      "intvls_r: 2\n",
      "intvls_c: 17\n"
     ]
    }
   ],
   "source": [
    "# prepare circular grid as buffer around a station point and determine minimal distance to terrain surface \n",
    "# this calculation is defined as a function, to be applied at each station point\n",
    "# required inputs are easting, northing, overburden at stationed point (and a coeff for buffer_radius = coeff*cover) \n",
    "# ??how can processing.runalg(\"grass7:r.what.points\", ...) read/write from numpy array \n",
    "\n",
    "from numpy import *                                                                             #ToDo mv to imports\n",
    "\n",
    "# input data  #temporarily static\n",
    "point = np.array([2612060, 1268065])  #station point\n",
    "h = 110.0  #overburden depth above station point\n",
    "\n",
    "def make_buffer(point, overburden):\n",
    "    c = 0.5  #buffer radius = c*h\n",
    "    res = 20.0  #nominal grid resolution \n",
    "    intvls_r = int(h*c / res)  #number of intervals along the buffer radius, close enough\n",
    "    res_r = h*c / intvls_r  #effective resolution along the radius\n",
    "    buffer = np.array(point)  #initialize buffer, first item is exactly at station point\n",
    "    print(\"buffer: \"+str(buffer))\n",
    "\n",
    "    # calculate local coordinates for grid along a ring\n",
    "    for i in range(intvls_r):\n",
    "        r = c*h - i*res_r\n",
    "        perim = 2 * r * pi \n",
    "        intvls_c = int(perim/res)  #number of intervals along a ring, close enough\n",
    "        item = np.array([0.0, 0.0])  #initialize\n",
    "        for j in range(intvls_c):\n",
    "            item[0] = (sin((2*pi) / intvls_c *(j+1)) *r) + point[0]\n",
    "            item[1] = (cos((2*pi) / intvls_c *(j+1)) *r) + point[1]\n",
    "            buffer = np.vstack((buffer, item))  #vstack works with arrays of diff nr of items, append does not        \n",
    "\n",
    "        print(\"r: \"+str(r))\n",
    "        print(\"intvls_r: \"+str(intvls_r))\n",
    "        print(\"intvls_c: \"+str(intvls_c))\n",
    "        return buffer\n",
    "        \n",
    "buffer = make_buffer(point=point, overburden=h)        "
   ]
  },
  {
   "cell_type": "code",
   "execution_count": 19,
   "metadata": {},
   "outputs": [
    {
     "data": {
      "text/plain": [
       "array([[ 2612060.        ,  1268065.        ],\n",
       "       [ 2612079.86829164,  1268116.28597262],\n",
       "       [ 2612097.0532604 ,  1268105.64549045],\n",
       "       [ 2612109.23398102,  1268089.51560957],\n",
       "       [ 2612114.7653797 ,  1268070.07475977],\n",
       "       [ 2612112.90041037,  1268049.94853555],\n",
       "       [ 2612103.8909475 ,  1268031.855095  ],\n",
       "       [ 2612088.95376896,  1268018.23805753],\n",
       "       [ 2612070.10622348,  1268010.93647952],\n",
       "       [ 2612049.89377652,  1268010.93647952],\n",
       "       [ 2612031.04623104,  1268018.23805753],\n",
       "       [ 2612016.1090525 ,  1268031.855095  ],\n",
       "       [ 2612007.09958963,  1268049.94853555],\n",
       "       [ 2612005.2346203 ,  1268070.07475977],\n",
       "       [ 2612010.76601898,  1268089.51560957],\n",
       "       [ 2612022.9467396 ,  1268105.64549045],\n",
       "       [ 2612040.13170836,  1268116.28597262],\n",
       "       [ 2612060.        ,  1268120.        ]])"
      ]
     },
     "execution_count": 19,
     "metadata": {},
     "output_type": "execute_result"
    }
   ],
   "source": [
    "buffer"
   ]
  },
  {
   "cell_type": "code",
   "execution_count": 20,
   "metadata": {
    "collapsed": true
   },
   "outputs": [],
   "source": [
    "buffer_df = pd.DataFrame.from_records(data=buffer, columns=['Easting', 'Northing'], index=None)\n",
    "#buffer_df"
   ]
  },
  {
   "cell_type": "code",
   "execution_count": 21,
   "metadata": {},
   "outputs": [
    {
     "data": {
      "text/plain": [
       "18"
      ]
     },
     "execution_count": 21,
     "metadata": {},
     "output_type": "execute_result"
    }
   ],
   "source": [
    "buffer_points = [sp.geometry.Point(row['Easting'], row['Northing'])\n",
    "                 for key, row in buffer_df.iterrows()]\n",
    "len(buffer_points)"
   ]
  },
  {
   "cell_type": "code",
   "execution_count": 22,
   "metadata": {},
   "outputs": [
    {
     "name": "stdout",
     "output_type": "stream",
     "text": [
      "         Easting      Northing                                     geometry\n",
      "0   2.612060e+06  1.268065e+06                      POINT (2612060 1268065)\n",
      "1   2.612080e+06  1.268116e+06   POINT (2612079.86829164 1268116.285972617)\n",
      "2   2.612097e+06  1.268106e+06    POINT (2612097.0532604 1268105.645490447)\n",
      "3   2.612109e+06  1.268090e+06  POINT (2612109.233981024 1268089.515609568)\n",
      "4   2.612115e+06  1.268070e+06   POINT (2612114.765379696 1268070.07475977)\n",
      "5   2.612113e+06  1.268050e+06  POINT (2612112.900410375 1268049.948535546)\n",
      "6   2.612104e+06  1.268032e+06    POINT (2612103.8909475 1268031.855094999)\n",
      "7   2.612089e+06  1.268018e+06  POINT (2612088.953768958 1268018.238057535)\n",
      "8   2.612070e+06  1.268011e+06   POINT (2612070.10622348 1268010.936479517)\n",
      "9   2.612050e+06  1.268011e+06   POINT (2612049.89377652 1268010.936479517)\n",
      "10  2.612031e+06  1.268018e+06  POINT (2612031.046231042 1268018.238057535)\n",
      "11  2.612016e+06  1.268032e+06    POINT (2612016.1090525 1268031.855094999)\n",
      "12  2.612007e+06  1.268050e+06  POINT (2612007.099589625 1268049.948535546)\n",
      "13  2.612005e+06  1.268070e+06   POINT (2612005.234620304 1268070.07475977)\n",
      "14  2.612011e+06  1.268090e+06  POINT (2612010.766018976 1268089.515609568)\n",
      "15  2.612023e+06  1.268106e+06    POINT (2612022.9467396 1268105.645490447)\n",
      "16  2.612040e+06  1.268116e+06   POINT (2612040.13170836 1268116.285972617)\n",
      "17  2.612060e+06  1.268120e+06                      POINT (2612060 1268120)\n"
     ]
    }
   ],
   "source": [
    "crs = {'init': 'epsg:2056'}  #define crs\n",
    "buffer_spatial = gpd.GeoDataFrame(buffer_df, geometry=buffer_points, crs = crs)\n",
    "buffer_spatial.to_file(buffer_SHP, driver='ESRI Shapefile') \n",
    "\n",
    "print(buffer_spatial)"
   ]
  },
  {
   "cell_type": "code",
   "execution_count": 35,
   "metadata": {},
   "outputs": [
    {
     "name": "stdout",
     "output_type": "stream",
     "text": [
      "WORK/buffer.shp\n"
     ]
    }
   ],
   "source": [
    "print(buffer_SHP)"
   ]
  },
  {
   "cell_type": "code",
   "execution_count": 36,
   "metadata": {},
   "outputs": [
    {
     "name": "stdout",
     "output_type": "stream",
     "text": [
      "         Easting      Northing                                     geometry\n",
      "0   2.612060e+06  1.268065e+06                      POINT (2612060 1268065)\n",
      "1   2.612080e+06  1.268116e+06   POINT (2612079.86829164 1268116.285972617)\n",
      "2   2.612097e+06  1.268106e+06    POINT (2612097.0532604 1268105.645490447)\n",
      "3   2.612109e+06  1.268090e+06  POINT (2612109.233981024 1268089.515609568)\n",
      "4   2.612115e+06  1.268070e+06   POINT (2612114.765379696 1268070.07475977)\n",
      "5   2.612113e+06  1.268050e+06  POINT (2612112.900410375 1268049.948535546)\n",
      "6   2.612104e+06  1.268032e+06    POINT (2612103.8909475 1268031.855094999)\n",
      "7   2.612089e+06  1.268018e+06  POINT (2612088.953768958 1268018.238057535)\n",
      "8   2.612070e+06  1.268011e+06   POINT (2612070.10622348 1268010.936479517)\n",
      "9   2.612050e+06  1.268011e+06   POINT (2612049.89377652 1268010.936479517)\n",
      "10  2.612031e+06  1.268018e+06  POINT (2612031.046231042 1268018.238057535)\n",
      "11  2.612016e+06  1.268032e+06    POINT (2612016.1090525 1268031.855094999)\n",
      "12  2.612007e+06  1.268050e+06  POINT (2612007.099589625 1268049.948535546)\n",
      "13  2.612005e+06  1.268070e+06   POINT (2612005.234620304 1268070.07475977)\n",
      "14  2.612011e+06  1.268090e+06  POINT (2612010.766018976 1268089.515609568)\n",
      "15  2.612023e+06  1.268106e+06    POINT (2612022.9467396 1268105.645490447)\n",
      "16  2.612040e+06  1.268116e+06   POINT (2612040.13170836 1268116.285972617)\n",
      "17  2.612060e+06  1.268120e+06                      POINT (2612060 1268120)\n"
     ]
    }
   ],
   "source": [
    "# ----------------------------------------------------------------------------------------------------------------\n",
    "# create buffer_spatial from buffer_df\n",
    "# result: buffer_SHP\n",
    "# ----------------------------------------------------------------------------------------------------------------\n",
    "buffer_points = [sp.geometry.Point(row['Easting'], row['Northing'])\n",
    "                 for key, row in buffer_df.iterrows()]\n",
    "alignment_crs = {'init': 'epsg:2056'}  #define crs\n",
    "buffer_spatial = gpd.GeoDataFrame(buffer_df, geometry=buffer_points, crs = alignment_crs)\n",
    "buffer_spatial.to_file(buffer_SHP, driver='ESRI Shapefile') \n",
    "\n",
    "print(buffer_spatial)"
   ]
  },
  {
   "cell_type": "code",
   "execution_count": 37,
   "metadata": {},
   "outputs": [
    {
     "name": "stdout",
     "output_type": "stream",
     "text": [
      "Warning: Not all input layers use the same CRS.\n",
      "This can cause unexpected results.\n",
      "easting,northing,site_name,tmp1515078717949\n",
      "2612060,1268065,,256.412\n",
      "2612079.86829164,1268116.28597262,,256.6162\n",
      "2612097.0532604,1268105.64549045,,256.5174\n",
      "2612109.23398102,1268089.51560957,,256.5334\n",
      "2612114.7653797,1268070.07475977,,256.4881\n",
      "2612112.90041037,1268049.94853555,,256.3598\n",
      "2612103.8909475,1268031.855095,,256.6074\n",
      "2612088.95376896,1268018.23805753,,256.6067\n",
      "2612070.10622348,1268010.93647952,,256.6189\n",
      "2612049.89377652,1268010.93647952,,256.6505\n",
      "2612031.04623104,1268018.23805753,,256.4118\n",
      "2612016.1090525,1268031.855095,,256.4726\n",
      "2612007.09958963,1268049.94853555,,256.4409\n",
      "2612005.2346203,1268070.07475977,,256.3811\n",
      "2612010.76601898,1268089.51560957,,256.5326\n",
      "2612022.9467396,1268105.64549045,,256.7122\n",
      "2612040.13170836,1268116.28597262,,257.1815\n",
      "2612060,1268120,,256.6701\n",
      "\n"
     ]
    }
   ],
   "source": [
    "# read buffer_csv and get elevations at each point\n",
    "test_buffer_csv = \"WORK/test_buffer.csv\"  \n",
    "# buffer_SHP = {'init': 'epsg:2056'}  #define crs\n",
    "processing.runalg(\"grass7:r.what.points\",DTM,buffer_SHP,\n",
    "                  \"NA\",\",\",500,True,False,False,False,False,\n",
    "                  \"2603510.0,2624270.0,1260650.0,1274890.0\",-1,0.0001,test_buffer_csv\n",
    "                 )\n",
    "# elevations returned as NA (=null) ??\n",
    "\n",
    "# test python file handling\n",
    "Test = open(test_buffer_csv, 'rw')\n",
    "print(Test.read()) "
   ]
  },
  {
   "cell_type": "code",
   "execution_count": null,
   "metadata": {
    "collapsed": true
   },
   "outputs": [],
   "source": []
  },
  {
   "cell_type": "code",
   "execution_count": null,
   "metadata": {
    "collapsed": true
   },
   "outputs": [],
   "source": []
  },
  {
   "cell_type": "code",
   "execution_count": null,
   "metadata": {
    "collapsed": true
   },
   "outputs": [],
   "source": [
    "# TESTING WORK JK FOLLOWS\n",
    "# Notes:\n",
    "#   grass7:r.what.points expects an input file\n",
    "#   grass7:r.what.coords expects an inout vector (and syntax is slightly different!)\n",
    "#   grass7 gives Error reading pandas dataframes due to header line"
   ]
  },
  {
   "cell_type": "code",
   "execution_count": null,
   "metadata": {
    "collapsed": true
   },
   "outputs": [],
   "source": [
    "# test grass7:r.what.coords using variable for alignment input\n",
    "print(points)\n",
    "test_csv = \"WORK/test_buffer.csv\"\n",
    "processing.runalg(\n",
    "                  \"grass7:r.what.coords\", DTM, points,\n",
    "                  \"NA\",\",\",500,True,False,False,False,False,\n",
    "                  \"2603510.0,2624270.0,1260650.0,1274890.0\",testr_csv)\n",
    "\n",
    "# test python file handling\n",
    "Test = open(test_csv, 'rw')\n",
    "print(Test.read()) "
   ]
  },
  {
   "cell_type": "code",
   "execution_count": null,
   "metadata": {
    "collapsed": true
   },
   "outputs": [],
   "source": [
    "# try grass7:r.what.points reading alignment from csv file  #NG\n",
    "np.savetxt(\"WORK/buffer.csv\", buffer, delimiter=\",\")  #csv works but as input for r.what.coords (or points) NG\n",
    "test_csv = \"WORK/test.csv\"\n",
    "test_out = processing.runalg(\"grass7:r.what.points\", {\n",
    "                  \"map\":DTM, \n",
    "                  \"coordinates\":\"WORK/buffer.csv\",\n",
    "                  \"null_value\":\"NA\",\n",
    "                  \"separator\":\",\",\n",
    "                  \"cache\":500,\n",
    "                  \"-n\":True,\"-f\":False,\"-r\":False,\"-i\":False,\"-c\":False,\n",
    "                  \"GRASS_REGION_PARAMETER\":\"2603510.0,2624270.0,1260650.0,1274890.0\",\n",
    "                  \"output\":test_csv,\n",
    "                  })\n",
    "##print(test_csv)\n",
    "print(test_out)"
   ]
  },
  {
   "cell_type": "code",
   "execution_count": null,
   "metadata": {
    "collapsed": true
   },
   "outputs": [],
   "source": [
    "# test using shp file as input, works, faster than expected\n",
    "test_csv = \"WORK/test.csv\"  \n",
    "processing.runalg(\"grass7:r.what.points\",DTM,AlignmentDataPoint,\n",
    "                  \"NA\",\",\",500,True,False,False,False,False,\n",
    "                  \"2603510.0,2624270.0,1260650.0,1274890.0\",-1,0.0001,test_csv\n",
    "                 )\n",
    "\n",
    "# test python file handling\n",
    "Test = open(test_csv, 'rw')\n",
    "print(Test.read())"
   ]
  },
  {
   "cell_type": "code",
   "execution_count": null,
   "metadata": {
    "collapsed": true
   },
   "outputs": [],
   "source": [
    "#processing.alghelp(\"grass7:r.what.coords\")"
   ]
  },
  {
   "cell_type": "code",
   "execution_count": null,
   "metadata": {
    "collapsed": true
   },
   "outputs": [],
   "source": [
    "#processing.alglist()"
   ]
  },
  {
   "cell_type": "code",
   "execution_count": null,
   "metadata": {
    "collapsed": true
   },
   "outputs": [],
   "source": [
    "# test using variable for alingment input to grass \n",
    "points=np.array([2610000.0,1270000.0])  ##\"Error: Wrong parameter\"\n",
    "#points=(2612071.548,1269294.122)  #\"Error: Wrong parameter\"\n",
    "points=\"2612071.548,1269294.122\"  #works with one input pair, \"Error: Wrong parameter\" value with multiple pairs\n",
    "type(points)"
   ]
  },
  {
   "cell_type": "code",
   "execution_count": null,
   "metadata": {
    "collapsed": true
   },
   "outputs": [],
   "source": [
    "# test using dataframe for alingment input to grass \n",
    "#points_df =pd.DataFrame.from_records(points)\n",
    "buffer_df = pd.DataFrame.from_records(data=buffer, columns=None, index=None)\n",
    "print(buffer_df)"
   ]
  },
  {
   "cell_type": "code",
   "execution_count": null,
   "metadata": {
    "collapsed": true
   },
   "outputs": [],
   "source": [
    "test = pd.read_csv(Alignment_DTM)\n",
    "print(test)\n",
    "type(test)"
   ]
  },
  {
   "cell_type": "code",
   "execution_count": null,
   "metadata": {
    "collapsed": true
   },
   "outputs": [],
   "source": [
    "# test grass7:r.what.coords using variable for alignment input\n",
    "print(points)\n",
    "test_csv = \"WORK/test.csv\"\n",
    "processing.runalg(\n",
    "                  \"grass7:r.what.coords\", DTM, points,\n",
    "                  \"NA\",\",\",500,True,False,False,False,False,\n",
    "                  \"2603510.0,2624270.0,1260650.0,1274890.0\",test_csv)\n",
    "\n",
    "# test python file handling\n",
    "Test = open(test_csv, 'rw')\n",
    "print(Test.read())"
   ]
  },
  {
   "cell_type": "code",
   "execution_count": null,
   "metadata": {
    "collapsed": true
   },
   "outputs": [],
   "source": [
    "# test grass7:r.what.coords using variable for alignment input\n",
    "print(points)\n",
    "test_csv = \"WORK/test_buffer.csv\"\n",
    "processing.runalg(\n",
    "                  \"grass7:r.what.coords\", DTM, points,\n",
    "                  \"NA\",\",\",500,True,False,False,False,False,\n",
    "                  \"2603510.0,2624270.0,1260650.0,1274890.0\",testr_csv)\n",
    "\n",
    "# test python file handling\n",
    "Test = open(test_csv, 'rw')\n",
    "print(Test.read()) "
   ]
  },
  {
   "cell_type": "code",
   "execution_count": null,
   "metadata": {
    "collapsed": true
   },
   "outputs": [],
   "source": [
    "# test grass7 input data for coordinates with JSON/dictionary input\n",
    "test_csv = \"WORK/test.csv\"\n",
    "##test_output=[]\n",
    "test_out = processing.runalg(\"grass7:r.what.coords\", {\n",
    "                  \"map\":DTM, \n",
    "                  #\"coordinates\":\"2612071.548,1269294.122\",  #works with r.what.coords\n",
    "                  \"coordinates\":points,  #works with one inout pair\n",
    "                  \"null_value\":\"NA\",\n",
    "                  \"separator\":\",\",\n",
    "                  \"cache\":500,\n",
    "                  \"-n\":True,\"-f\":False,\"-r\":False,\"-i\":False,\"-c\":False,\n",
    "                  \"GRASS_REGION_PARAMETER\":\"2603510.0,2624270.0,1260650.0,1274890.0\",\n",
    "                  #\"output\":None,  #writes output to /tmp\n",
    "                  \"output\":test_csv,  #writes output to 'test_csv'\n",
    "                  ##\"output\":test_output  #NG\n",
    "                  })\n",
    "##print(test_csv)\n",
    "print(test_out)\n",
    "##print(test_output)"
   ]
  },
  {
   "cell_type": "code",
   "execution_count": null,
   "metadata": {
    "collapsed": true
   },
   "outputs": [],
   "source": [
    "# test using shp file as input, works, faster than expected\n",
    "test_csv = \"WORK/test.csv\"  \n",
    "processing.runalg(\"grass7:r.what.points\",DTM,AlignmentDataPoint,\n",
    "                  \"NA\",\",\",500,True,False,False,False,False,\n",
    "                  \"2603510.0,2624270.0,1260650.0,1274890.0\",-1,0.0001,test_csv\n",
    "                 )"
   ]
  },
  {
   "cell_type": "code",
   "execution_count": null,
   "metadata": {
    "collapsed": true
   },
   "outputs": [],
   "source": [
    "# test using open() for output file  #NG\n",
    "TestOut = open(\"WORK/test2.csv\", 'rw')  #file must exist\n",
    "processing.runalg(\"grass7:r.what.points\",DTM,AlignmentDataPoint,\n",
    "                  \"NA\",\",\",500,True,False,False,False,False,\n",
    "                  \"2603510.0,2624270.0,1260650.0,1274890.0\",-1,0.0001,TestOut)\n",
    "print TestOut.read()  #no output !!\n",
    "TestOut.close()\n",
    "\n",
    "\n",
    "# test python file handling\n",
    "Test = open(TestOut, 'rw')\n",
    "print(Test.read()) "
   ]
  },
  {
   "cell_type": "code",
   "execution_count": null,
   "metadata": {
    "collapsed": true
   },
   "outputs": [],
   "source": [
    "# test using open() for input file  #NG\n",
    "# it seems that grass cannot take input from python file handling methods\n",
    "#TestIn = open(AlignmentDataPoint, 'r')\n",
    "TestIn = open(\"WORK/HRT.AlignmentData.P0.Point.shp\", 'r')\n",
    "# test using shp file as input, works, faster than expected\n",
    "test_csv = \"WORK/test.csv\"\n",
    "processing.runalg(\"grass7:r.what.points\",DTM,TestIn,\n",
    "                  \"NA\",\",\",500,True,False,False,False,False,\n",
    "                  \"2603510.0,2624270.0,1260650.0,1274890.0\",-1,0.0001,test_csv)"
   ]
  },
  {
   "cell_type": "code",
   "execution_count": null,
   "metadata": {
    "collapsed": true
   },
   "outputs": [],
   "source": [
    "# test using tempfile for output\n",
    "import tempfile\n",
    "TestOut = tempfile.SpooledTemporaryFile()\n",
    "processing.runalg(\"grass7:r.what.points\",DTM,AlignmentDataPoint,\n",
    "                  \"NA\",\",\",500,True,False,False,False,False,\n",
    "                  \"2603510.0,2624270.0,1260650.0,1274890.0\",-1,0.0001,TestOut)\n",
    "print TestOut.read()  #no output\n",
    "TestOut.close()"
   ]
  },
  {
   "cell_type": "code",
   "execution_count": null,
   "metadata": {
    "collapsed": true
   },
   "outputs": [],
   "source": [
    "# test using tempfile \n",
    "import tempfile  #works from python command line, works from jupyter\n",
    "# create a temporary file and write some data to it\n",
    "fp = tempfile.TemporaryFile()\n",
    "fp.write(b'Hello world!')\n",
    "# read data from file\n",
    "fp.seek(0)\n",
    "print(fp.read())  #expect: 'Hello world!'\n",
    "# close the file, it will be removed\n",
    "fp.close()"
   ]
  },
  {
   "cell_type": "code",
   "execution_count": null,
   "metadata": {
    "collapsed": true
   },
   "outputs": [],
   "source": [
    "# test python file handling\n",
    "Test = open(\"WORK/test2.csv\", 'rw')\n",
    "print(Test.read())  #ok"
   ]
  },
  {
   "cell_type": "code",
   "execution_count": null,
   "metadata": {
    "collapsed": true
   },
   "outputs": [],
   "source": []
  },
  {
   "cell_type": "code",
   "execution_count": null,
   "metadata": {
    "collapsed": true
   },
   "outputs": [],
   "source": []
  },
  {
   "cell_type": "code",
   "execution_count": null,
   "metadata": {
    "collapsed": true
   },
   "outputs": [],
   "source": [
    "# ----------------------------------------------------------------------------------------------------------------\n",
    "# create df's\n",
    "# result: Alignment_DTM_df, Alignment_RockSurface_df\n",
    "# ----------------------------------------------------------------------------------------------------------------\n",
    "Alignment_DTM_df  = pd.read_csv(Alignment_DTM)\n",
    "Alignment_RockSurface_df  = pd.read_csv(Alignment_RockSurface)"
   ]
  },
  {
   "cell_type": "code",
   "execution_count": null,
   "metadata": {
    "collapsed": true
   },
   "outputs": [],
   "source": [
    "#Alignment_DTM_df"
   ]
  },
  {
   "cell_type": "code",
   "execution_count": null,
   "metadata": {
    "collapsed": true
   },
   "outputs": [],
   "source": [
    "# ----------------------------------------------------------------------------------------------------------------\n",
    "# prepare for join of grass results using pandas\n",
    "# result: alignment_df, Alignment_DTM_df_sel, Alignment_RockSurface_df_sel\n",
    "# ----------------------------------------------------------------------------------------------------------------\n",
    "\n",
    "# prepare alignment_df\n",
    "    # check:  alignment_df.head()\n",
    "alignment_df = alignment_df.loc[:,[\"Station\",\"Easting\", \"Northing\", \"Elevation\", \"StationReal\"]]\n",
    "    # check:  alignment_df.head()\n",
    "\n",
    "# prepare Alignment_DTM_df_sel\n",
    "    # check:  Alignment_DTM_df.head()\n",
    "Alignment_DTM_df_coleqtmp = [col for col in Alignment_DTM_df.columns if 'tmp' in col]\n",
    "if len(Alignment_DTM_df_coleqtmp) != 1:\n",
    "    print \"Extraction of DTM col=tmp did not work properly. Please check\"\n",
    "    exit()\n",
    "Alignment_DTM_df_rename = Alignment_DTM_df.rename(\n",
    "    columns= {Alignment_DTM_df_coleqtmp[0]: \"DTM\"})\n",
    "Alignment_DTM_df_sel = Alignment_DTM_df_rename.loc[:,[\"easting\", \"northing\", \"DTM\"]]\n",
    "    # check:  Alignment_RockSurface_df.head()\n",
    "\n",
    "# prepare Alignment_RockSurface_df_coleqtmp\n",
    "Alignment_RockSurface_df_coleqtmp = [col for col in Alignment_RockSurface_df.columns if 'tmp' in col]\n",
    "if len(Alignment_RockSurface_df_coleqtmp) != 1:\n",
    "    print \"Extraction of RockSurface_csv_coleqtmp col=tmp did not work properly. Please check\"\n",
    "    exit()\n",
    "Alignment_RockSurface_df_rename = Alignment_RockSurface_df.rename(\n",
    "    columns= {Alignment_RockSurface_df_coleqtmp[0]: \"RockSurface\"})\n",
    "Alignment_RockSurface_df_sel = Alignment_RockSurface_df_rename.loc[\n",
    "    :,[\"easting\", \"northing\", \"RockSurface\"]]  \n",
    "    # check:  Alignment_RockSurface_df_sel.head()"
   ]
  },
  {
   "cell_type": "code",
   "execution_count": null,
   "metadata": {
    "collapsed": true
   },
   "outputs": [],
   "source": [
    "# ----------------------------------------------------------------------------------------------------------------\n",
    "# join grass results using Panda\n",
    "#    merge handles floats as keys inconsistently, round df's to three decimals before merge \n",
    "# result: merge_final\n",
    "print 'merge_final'\n",
    "# ----------------------------------------------------------------------------------------------------------------\n",
    "\n",
    "alignment_df = alignment_df.round(decimals=3)\n",
    "Alignment_DTM_df_sel = Alignment_DTM_df_sel.round(decimals=3)\n",
    "Alignment_RockSurface_df_sel = Alignment_RockSurface_df_sel.round(decimals=3)\n",
    "\n",
    "# merge DTM to Alignment\n",
    "merge_Alignment_DTM= pd.merge(left= alignment_df, right = Alignment_DTM_df_sel, \n",
    "                 left_on = [\"Easting\",\"Northing\"], \n",
    "                 right_on = [\"easting\",\"northing\"], how = \"left\")\n",
    "\n",
    "# merge RockSurface to Alignment_DTM\n",
    "merge_final = pd.merge(merge_Alignment_DTM, Alignment_RockSurface_df_sel, \n",
    "                 left_on = [\"Easting\",\"Northing\"], \n",
    "                 right_on = [\"easting\",\"northing\"])\n",
    "    # check:  merge_final.head()\n",
    "    # check:  merge_final.columns"
   ]
  },
  {
   "cell_type": "code",
   "execution_count": null,
   "metadata": {
    "collapsed": true
   },
   "outputs": [],
   "source": [
    "# ----------------------------------------------------------------------------------------------------------------\n",
    "# clean up merge_final\n",
    "# result: TunnExcvDF\n",
    "print 'cleaning up merge'\n",
    "# ----------------------------------------------------------------------------------------------------------------\n",
    "\n",
    "TunnExcvDF = merge_final.loc[:,[\"Station\",\"Easting\", \"Northing\", \"Elevation\", \"DTM\", \"RockSurface\",\n",
    "                               \"StationReal\"]]\n",
    "    # check:  TunnExcvDF.head()\n",
    "    # check:  list(TunnExcvDF)\n",
    "# sort by Station\n",
    "TunnExcvDF = TunnExcvDF.sort(['StationReal'], ascending=[1])"
   ]
  },
  {
   "cell_type": "code",
   "execution_count": null,
   "metadata": {
    "collapsed": true
   },
   "outputs": [],
   "source": [
    "# ----------------------------------------------------------------------------------------------------------------\n",
    "# calculate difference height rocksurface and tunnel axis\n",
    "# result: TunnExcvDF['RockCover']\n",
    "# ----------------------------------------------------------------------------------------------------------------\n",
    "\n",
    "TunnExcvDF['RockCover'] = TunnExcvDF.RockSurface - TunnExcvDF.Elevation"
   ]
  },
  {
   "cell_type": "code",
   "execution_count": null,
   "metadata": {
    "collapsed": true
   },
   "outputs": [],
   "source": [
    "TunnExcvDF"
   ]
  },
  {
   "cell_type": "code",
   "execution_count": null,
   "metadata": {
    "collapsed": true
   },
   "outputs": [],
   "source": []
  }
 ],
 "metadata": {
  "kernelspec": {
   "display_name": "Python 2",
   "language": "python",
   "name": "python2"
  },
  "language_info": {
   "codemirror_mode": {
    "name": "ipython",
    "version": 2
   },
   "file_extension": ".py",
   "mimetype": "text/x-python",
   "name": "python",
   "nbconvert_exporter": "python",
   "pygments_lexer": "ipython2",
   "version": "2.7.12"
  }
 },
 "nbformat": 4,
 "nbformat_minor": 2
}
