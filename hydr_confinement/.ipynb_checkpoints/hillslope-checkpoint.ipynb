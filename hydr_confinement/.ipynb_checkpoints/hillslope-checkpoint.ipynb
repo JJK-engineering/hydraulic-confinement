{
 "cells": [
  {
   "cell_type": "code",
   "execution_count": 1,
   "metadata": {
    "collapsed": true
   },
   "outputs": [],
   "source": [
    "# procedure for producing hillsope raster data\n",
    "\n",
    "# project name: 'Nam Ang'"
   ]
  },
  {
   "cell_type": "code",
   "execution_count": 2,
   "metadata": {
    "collapsed": true
   },
   "outputs": [],
   "source": [
    "# ToDo\n",
    "#   put common functions (e.g. setup, data format conversions) into a separate module/API\n",
    "#   use Nam Ang HEP data for initial testing and demo\n",
    "#   document in Jupyter Notebook"
   ]
  },
  {
   "cell_type": "code",
   "execution_count": 3,
   "metadata": {
    "collapsed": true
   },
   "outputs": [],
   "source": [
    "# python setup for qgis processing\n",
    "import sys, os\n",
    "from qgis.core import QgsApplication\n",
    "from PyQt4.QtGui import QApplication\n",
    "app = QApplication([], True)  #True -> window display enabled\n",
    "QgsApplication.setPrefixPath(\"/usr\", True)\n",
    "QgsApplication.initQgis()\n",
    "sys.path.append('/usr/share/qgis/python/plugins')  #export PYTHONPATH not needed in start script\n",
    "from processing.core.Processing import Processing\n",
    "Processing.initialize() \n",
    "import processing\n",
    "#from processing.tools import *  #not needed currently"
   ]
  },
  {
   "cell_type": "code",
   "execution_count": 4,
   "metadata": {
    "collapsed": true
   },
   "outputs": [],
   "source": [
    "# set wd for this procedure and project \n",
    "os.chdir(\"/home/kaelin_joseph/DSS.HydraulicConfinement/\")"
   ]
  },
  {
   "cell_type": "code",
   "execution_count": 5,
   "metadata": {
    "collapsed": true
   },
   "outputs": [],
   "source": [
    "# define required input files\n",
    "DTM = \"data/in/NamAngTopogRaster.tif\"  #DEM with surface topography"
   ]
  },
  {
   "cell_type": "code",
   "execution_count": 6,
   "metadata": {
    "collapsed": true
   },
   "outputs": [],
   "source": [
    "# define required input data\n",
    "crs = {'init': 'epsg:32648'}  #define crs for project\n",
    "grass_region = \"726000,729500,1670500,1674000\"  #map region"
   ]
  },
  {
   "cell_type": "code",
   "execution_count": 7,
   "metadata": {
    "collapsed": true
   },
   "outputs": [],
   "source": [
    "# define output data\n",
    "DTM_slope='data/in/NamAngTopogSlopeRaster.tif'"
   ]
  },
  {
   "cell_type": "code",
   "execution_count": 8,
   "metadata": {},
   "outputs": [
    {
     "data": {
      "text/plain": [
       "{'slope': 'data/in/NamAngTopogSlopeRaster.tif'}"
      ]
     },
     "execution_count": 8,
     "metadata": {},
     "output_type": "execute_result"
    }
   ],
   "source": [
    "# produce hillslope raster\n",
    "processing.runalg(\"grass7:r.slope\",\n",
    "                   DTM, 2,False,1,0,grass_region,0,DTM_slope)"
   ]
  },
  {
   "cell_type": "code",
   "execution_count": 9,
   "metadata": {},
   "outputs": [
    {
     "name": "stdout",
     "output_type": "stream",
     "text": [
      "ALGORITHM: r.slope - Generates raster maps of slope from an elevation raster map.\n",
      "\televation <ParameterRaster>\n",
      "\tprecision <ParameterSelection>\n",
      "\t-a <ParameterBoolean>\n",
      "\tzscale <ParameterNumber>\n",
      "\tmin_slope <ParameterNumber>\n",
      "\tGRASS_REGION_PARAMETER <ParameterExtent>\n",
      "\tGRASS_REGION_CELLSIZE_PARAMETER <ParameterNumber>\n",
      "\tslope <OutputRaster>\n",
      "\n",
      "\n",
      "precision(Data type)\n",
      "\t0 - FCELL\n",
      "\t1 - CELL\n",
      "\t2 - DCELL\n",
      "\n"
     ]
    }
   ],
   "source": [
    "processing.alghelp(\"grass7:r.slope\")\n",
    "# CELL represents integer data values\n",
    "# FCELL single-points floating values \n",
    "# DCELL double-precision floating point values"
   ]
  }
 ],
 "metadata": {
  "kernelspec": {
   "display_name": "Python 2",
   "language": "python",
   "name": "python2"
  },
  "language_info": {
   "codemirror_mode": {
    "name": "ipython",
    "version": 2
   },
   "file_extension": ".py",
   "mimetype": "text/x-python",
   "name": "python",
   "nbconvert_exporter": "python",
   "pygments_lexer": "ipython2",
   "version": "2.7.12"
  }
 },
 "nbformat": 4,
 "nbformat_minor": 2
}
