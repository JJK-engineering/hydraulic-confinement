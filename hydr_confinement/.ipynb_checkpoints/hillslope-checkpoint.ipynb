{
 "cells": [
  {
   "cell_type": "code",
   "execution_count": 1,
   "metadata": {
    "collapsed": true
   },
   "outputs": [],
   "source": [
    "# procedure for determining hiilsope\n",
    "\n",
    "# project name: 'Test'"
   ]
  },
  {
   "cell_type": "code",
   "execution_count": 2,
   "metadata": {
    "collapsed": true
   },
   "outputs": [],
   "source": [
    "# ToDo\n",
    "#   put common functions (e.g. setup, data format conversions) into a separate module/API\n",
    "#   use Nam Ang HEP data for initial testing and demo\n",
    "#   provide full desgin criteria text in Jupyter Notebook design report"
   ]
  },
  {
   "cell_type": "code",
   "execution_count": 3,
   "metadata": {},
   "outputs": [
    {
     "data": {
      "text/html": [
       "<script>requirejs.config({paths: { 'plotly': ['https://cdn.plot.ly/plotly-latest.min']},});if(!window.Plotly) {{require(['plotly'],function(plotly) {window.Plotly=plotly;});}}</script>"
      ],
      "text/vnd.plotly.v1+html": [
       "<script>requirejs.config({paths: { 'plotly': ['https://cdn.plot.ly/plotly-latest.min']},});if(!window.Plotly) {{require(['plotly'],function(plotly) {window.Plotly=plotly;});}}</script>"
      ]
     },
     "metadata": {},
     "output_type": "display_data"
    },
    {
     "name": "stdout",
     "output_type": "stream",
     "text": [
      "2.2.1\n"
     ]
    }
   ],
   "source": [
    "# import required python libraires\n",
    "import numpy as np\n",
    "from numpy import *\n",
    "import pandas as pd\n",
    "import geopandas as gpd\n",
    "import shapely as sp\n",
    "import matplotlib.pylab as pylab\n",
    "import matplotlib.pyplot as plt\n",
    "%matplotlib inline\n",
    "import plotly.plotly as py\n",
    "#import plotly.graph_objs as go\n",
    "\n",
    "# set up plotly in 'offline' mode\n",
    "# this should be documented\n",
    "\n",
    "from plotly import __version__\n",
    "from plotly.offline import download_plotlyjs, init_notebook_mode, plot,iplot\n",
    "import plotly.graph_objs as go\n",
    "init_notebook_mode(connected=True)\n",
    "print (__version__) # requires version >= 1.9.0\n",
    "\n",
    "# collect all plotly setups here\n",
    "\n",
    "import plotly.offline as plotly  #testing\n",
    "\n",
    "from plotly.graph_objs import *  #testing"
   ]
  },
  {
   "cell_type": "code",
   "execution_count": 4,
   "metadata": {
    "collapsed": true
   },
   "outputs": [],
   "source": [
    "# python setup for qgis processing\n",
    "import sys, os\n",
    "from qgis.core import QgsApplication\n",
    "from PyQt4.QtGui import QApplication\n",
    "app = QApplication([], True)  #True -> window display enabled\n",
    "QgsApplication.setPrefixPath(\"/usr\", True)\n",
    "QgsApplication.initQgis()\n",
    "sys.path.append('/usr/share/qgis/python/plugins')  #export PYTHONPATH not needed in start script\n",
    "from processing.core.Processing import Processing\n",
    "Processing.initialize() \n",
    "import processing\n",
    "#from processing.tools import *  #not needed currently"
   ]
  },
  {
   "cell_type": "code",
   "execution_count": 5,
   "metadata": {
    "collapsed": true
   },
   "outputs": [],
   "source": [
    "# import DSS modules\n",
    "#import geospatial as geo"
   ]
  },
  {
   "cell_type": "code",
   "execution_count": 6,
   "metadata": {
    "collapsed": true
   },
   "outputs": [],
   "source": [
    "# set wd for this procedure and project \n",
    "os.chdir(\"/home/kaelin_joseph/DSS.HydraulicConfinement/\")"
   ]
  },
  {
   "cell_type": "code",
   "execution_count": 7,
   "metadata": {
    "collapsed": true
   },
   "outputs": [],
   "source": [
    "# define required input files\n",
    "DTM = \"data/swissALTI3D_.tif\"  #DEM with surface topography\n"
   ]
  },
  {
   "cell_type": "code",
   "execution_count": 8,
   "metadata": {
    "collapsed": true
   },
   "outputs": [],
   "source": [
    "# define required input data\n",
    "crs = {'init': 'epsg:2056'}  #define crs for project\n",
    "grass_region = \"2603510,2624270,1260650,1274890\"  #map region"
   ]
  },
  {
   "cell_type": "code",
   "execution_count": 9,
   "metadata": {
    "collapsed": true
   },
   "outputs": [],
   "source": [
    "# define output data\n",
    "DTM_slope='tmp/swissALTI3D_slope.tif'"
   ]
  },
  {
   "cell_type": "code",
   "execution_count": 10,
   "metadata": {},
   "outputs": [
    {
     "data": {
      "text/plain": [
       "{'slope': 'tmp/swissALTI3D_slope.tif'}"
      ]
     },
     "execution_count": 10,
     "metadata": {},
     "output_type": "execute_result"
    }
   ],
   "source": [
    "processing.runalg(\"grass7:r.slope\",DTM, 2,False,1,0,grass_region,0,DTM_slope)"
   ]
  },
  {
   "cell_type": "code",
   "execution_count": null,
   "metadata": {
    "collapsed": true
   },
   "outputs": [],
   "source": [
    "# need to read in 'slope' and get slope values for all buffer grid points 'MIN'\n",
    "\n",
    "\n"
   ]
  }
 ],
 "metadata": {
  "kernelspec": {
   "display_name": "Python 2",
   "language": "python",
   "name": "python2"
  },
  "language_info": {
   "codemirror_mode": {
    "name": "ipython",
    "version": 2
   },
   "file_extension": ".py",
   "mimetype": "text/x-python",
   "name": "python",
   "nbconvert_exporter": "python",
   "pygments_lexer": "ipython2",
   "version": "2.7.12"
  }
 },
 "nbformat": 4,
 "nbformat_minor": 2
}
