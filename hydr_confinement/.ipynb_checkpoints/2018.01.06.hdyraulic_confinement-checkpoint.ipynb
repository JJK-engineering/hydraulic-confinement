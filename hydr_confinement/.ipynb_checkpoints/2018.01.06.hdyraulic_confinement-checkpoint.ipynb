{
 "cells": [
  {
   "cell_type": "code",
   "execution_count": 1,
   "metadata": {
    "collapsed": true
   },
   "outputs": [],
   "source": [
    "# procedure for calculating hydraulic confinement along a pressure tunnel \n",
    "#  calculation done at stationed points at a selected interval along tunnel alignment\n",
    "#  calculation determines the minimum dstance from the stationed point to the terrain surface "
   ]
  },
  {
   "cell_type": "code",
   "execution_count": 2,
   "metadata": {
    "collapsed": true
   },
   "outputs": [],
   "source": [
    "# python setup for qgis processing (based on TunnelGIS configuration)\n",
    "import sys\n",
    "from qgis.core import *\n",
    "from PyQt4.QtGui import *\n",
    "\n",
    "app = QApplication([], True)\n",
    "QgsApplication.setPrefixPath(\"/usr\", True)\n",
    "QgsApplication.initQgis()\n",
    "\n",
    "sys.path.append('/usr/share/qgis/python/plugins')\n",
    "from processing.core.Processing import Processing\n",
    "Processing.initialize()\n",
    "from processing.tools import *\n",
    "\n",
    "import processing"
   ]
  },
  {
   "cell_type": "code",
   "execution_count": 3,
   "metadata": {
    "collapsed": true
   },
   "outputs": [],
   "source": [
    "# import required python libraires\n",
    "import pandas as pd\n",
    "import numpy as np\n",
    "from numpy import *\n",
    "import geopandas as gpd\n",
    "import shapely as sp\n",
    "import os \n",
    "\n",
    "import matplotlib.pylab as pylab\n",
    "import matplotlib.pyplot as plt\n",
    "%matplotlib inline"
   ]
  },
  {
   "cell_type": "code",
   "execution_count": 4,
   "metadata": {
    "collapsed": true
   },
   "outputs": [],
   "source": [
    "# set wd for this procedure \n",
    "os.chdir(\"/home/kaelin_joseph/DSS.HydraulicConfinement/\")"
   ]
  },
  {
   "cell_type": "code",
   "execution_count": 5,
   "metadata": {
    "collapsed": true
   },
   "outputs": [],
   "source": [
    "# define required input files\n",
    "DTM = \"data/swissALTI3D_.tif\"  #DEM with surface topography\n",
    "Alignment = \"data/TestAlignment.p0.csv\"  #tunnel alignment"
   ]
  },
  {
   "cell_type": "code",
   "execution_count": 6,
   "metadata": {
    "collapsed": true
   },
   "outputs": [],
   "source": [
    "# temporary data\n",
    "Alignment_SHP ='tmp/TestAlignment.shp'  #alignment shp from Alignment\n",
    "Alignment_grass = 'tmp/TestAlignmentGrass.csv'  #alignment csv fixed for grass\n",
    "Alignment_line = \"tmp/TestAlignmentLine.shp\"  #intermediate data\n",
    "Alignment_points = \"tmp/TestAlignmentPoints.shp\"  #alignment containing station points\n",
    "Alignment_DTM = \"tmp/TestAlignmentDTM.csv\"  #alignment including terrain elevations at station points\n",
    "Buffer_SHP = \"tmp/TestBuffer.shp\"  #buffer shp containing ring grid points at a particular station point\n",
    "Test_buffer_csv = \"tmp/TestBuffer.csv\"  #buffer written to csv"
   ]
  },
  {
   "cell_type": "code",
   "execution_count": 7,
   "metadata": {
    "collapsed": true
   },
   "outputs": [],
   "source": [
    "# define output files\n"
   ]
  },
  {
   "cell_type": "code",
   "execution_count": 8,
   "metadata": {
    "collapsed": true
   },
   "outputs": [],
   "source": [
    "# create alignment_df (dataframe) from alignment csv                         #ToDo JK: make into csv -> df function\n",
    "#   required alignment input data: x_align, y_align, z_align at alignment definition points\n",
    "#   check csv data before creating df (no trailing blank lines, no duplicate lines)\n",
    "alignment_df = pd.read_csv(Alignment)\n",
    "# delete row if only NA are present in row\n",
    "alignment_df = alignment_df.dropna(how = \"all\")\n",
    "# round alignment_df to three decimals\n",
    "alignment_df = alignment_df.round(decimals=3)"
   ]
  },
  {
   "cell_type": "code",
   "execution_count": 9,
   "metadata": {},
   "outputs": [
    {
     "data": {
      "text/html": [
       "<div>\n",
       "<table border=\"1\" class=\"dataframe\">\n",
       "  <thead>\n",
       "    <tr style=\"text-align: right;\">\n",
       "      <th></th>\n",
       "      <th>Point</th>\n",
       "      <th>Type</th>\n",
       "      <th>Station</th>\n",
       "      <th>Northing</th>\n",
       "      <th>Easting</th>\n",
       "      <th>Elevation</th>\n",
       "    </tr>\n",
       "  </thead>\n",
       "  <tbody>\n",
       "    <tr>\n",
       "      <th>0</th>\n",
       "      <td>0</td>\n",
       "      <td>NaN</td>\n",
       "      <td>204+874.1</td>\n",
       "      <td>1269294.122</td>\n",
       "      <td>2612071.548</td>\n",
       "      <td>270.962</td>\n",
       "    </tr>\n",
       "    <tr>\n",
       "      <th>1</th>\n",
       "      <td>221</td>\n",
       "      <td>PT</td>\n",
       "      <td>205+389.861</td>\n",
       "      <td>1269029.594</td>\n",
       "      <td>2612426.331</td>\n",
       "      <td>253.058</td>\n",
       "    </tr>\n",
       "    <tr>\n",
       "      <th>2</th>\n",
       "      <td>EC10:3</td>\n",
       "      <td>EC</td>\n",
       "      <td>209+528.128</td>\n",
       "      <td>1265960.779</td>\n",
       "      <td>2614558.633</td>\n",
       "      <td>268.579</td>\n",
       "    </tr>\n",
       "  </tbody>\n",
       "</table>\n",
       "</div>"
      ],
      "text/plain": [
       "    Point Type      Station     Northing      Easting  Elevation\n",
       "0       0  NaN    204+874.1  1269294.122  2612071.548    270.962\n",
       "1     221   PT  205+389.861  1269029.594  2612426.331    253.058\n",
       "2  EC10:3   EC  209+528.128  1265960.779  2614558.633    268.579"
      ]
     },
     "execution_count": 9,
     "metadata": {},
     "output_type": "execute_result"
    }
   ],
   "source": [
    "alignment_df"
   ]
  },
  {
   "cell_type": "code",
   "execution_count": 10,
   "metadata": {},
   "outputs": [
    {
     "data": {
      "text/plain": [
       "{'output': 'tmp/TestAlignmentPoints.shp'}"
      ]
     },
     "execution_count": 10,
     "metadata": {},
     "output_type": "execute_result"
    }
   ],
   "source": [
    "# create segmented polyline representing alignment from points in alignment_df\n",
    "#   grass input for function v.in.line 1) nust have x first and y second; 2) no header \n",
    "#   required output data: x_align, y_align at each station point            #ToDo JK: make into stationing function\n",
    "alignment_df_grass = alignment_df.loc[:,[\"Easting\", \"Northing\"]]  #x first and y second\n",
    "alignment_df_grass.to_csv(Alignment_grass, header=False, index=False)  #no header\n",
    "\n",
    "# points to line\n",
    "processing.runalg(\"grass7:v.in.lines\",Alignment_grass,\",\",False,\n",
    "                  \"2605158.67928,2621471.50192,1265877.44552,1269377.45567\",0,Alignment_line)\n",
    "\n",
    "# line to station points\n",
    "processing.runalg(\"grass7:v.to.points\",Alignment_line,\"100\",1,True,\n",
    "                  \"2603510,2624270,1260650,1274890\",-1,0.0001,0,Alignment_points)"
   ]
  },
  {
   "cell_type": "code",
   "execution_count": 11,
   "metadata": {
    "collapsed": true
   },
   "outputs": [],
   "source": [
    "# create alignment_SHP from alignment_df for checking                       #ToDo JK: make into df -> shp function\n",
    "alignment_spatial_points = [sp.geometry.Point(row['Easting'], row['Northing'])\n",
    "                            for key, row in alignment_df.iterrows()]\n",
    "alignment_crs = {'init': 'epsg:2056'}  #define crs\n",
    "alignment_spatial = gpd.GeoDataFrame(alignment_df, geometry=alignment_spatial_points, crs = alignment_crs)\n",
    "alignment_spatial.to_file(Alignment_SHP, driver='ESRI Shapefile') \n",
    "\n",
    "#print(alignment_spatial)"
   ]
  },
  {
   "cell_type": "code",
   "execution_count": 12,
   "metadata": {},
   "outputs": [
    {
     "data": {
      "image/png": "[encoded data removed]",
      "text/plain": [
       "<matplotlib.figure.Figure at 0x7f28d779cf10>"
      ]
     },
     "metadata": {},
     "output_type": "display_data"
    }
   ],
   "source": [
    "# plot alignment for checking\n",
    "#   reference: http://nbviewer.jupyter.org/gist/perrygeo/c426355e40037c452434\n",
    "pylab.rcParams['figure.figsize'] = 13.5, 9\n",
    "\n",
    "# get data to plot\n",
    "line = gpd.GeoDataFrame.from_file(Alignment_line)\n",
    "point1 = gpd.GeoDataFrame.from_file(Alignment_SHP)\n",
    "point2 = gpd.GeoDataFrame.from_file(Alignment_points)\n",
    "\n",
    "# plot\n",
    "base = line.plot(color='black')\n",
    "point1.plot(ax=base, marker='o', color='red', markersize=10,  markeredgewidth=0.0);\n",
    "point2.plot(ax=base, marker='*', color='blue', markersize=10, markeredgewidth=0.0);"
   ]
  },
  {
   "cell_type": "code",
   "execution_count": 13,
   "metadata": {},
   "outputs": [
    {
     "data": {
      "text/html": [
       "<div>\n",
       "<table border=\"1\" class=\"dataframe\">\n",
       "  <thead>\n",
       "    <tr style=\"text-align: right;\">\n",
       "      <th></th>\n",
       "      <th>cat_</th>\n",
       "      <th>geometry</th>\n",
       "    </tr>\n",
       "  </thead>\n",
       "  <tbody>\n",
       "    <tr>\n",
       "      <th>0</th>\n",
       "      <td>1</td>\n",
       "      <td>POINT (2612071.548 1269294.122)</td>\n",
       "    </tr>\n",
       "    <tr>\n",
       "      <th>1</th>\n",
       "      <td>1</td>\n",
       "      <td>POINT (2612142.5046 1269241.2164)</td>\n",
       "    </tr>\n",
       "    <tr>\n",
       "      <th>2</th>\n",
       "      <td>1</td>\n",
       "      <td>POINT (2612213.4612 1269188.3108)</td>\n",
       "    </tr>\n",
       "    <tr>\n",
       "      <th>3</th>\n",
       "      <td>1</td>\n",
       "      <td>POINT (2612284.4178 1269135.4052)</td>\n",
       "    </tr>\n",
       "    <tr>\n",
       "      <th>4</th>\n",
       "      <td>1</td>\n",
       "      <td>POINT (2612355.3744 1269082.4996)</td>\n",
       "    </tr>\n",
       "  </tbody>\n",
       "</table>\n",
       "</div>"
      ],
      "text/plain": [
       "   cat_                           geometry\n",
       "0     1    POINT (2612071.548 1269294.122)\n",
       "1     1  POINT (2612142.5046 1269241.2164)\n",
       "2     1  POINT (2612213.4612 1269188.3108)\n",
       "3     1  POINT (2612284.4178 1269135.4052)\n",
       "4     1  POINT (2612355.3744 1269082.4996)"
      ]
     },
     "execution_count": 13,
     "metadata": {},
     "output_type": "execute_result"
    }
   ],
   "source": [
    "# create alignment_points_df from Alignment_points shp                       #ToDo JK: make into shp -> df function\n",
    "#   required output data: id_align, x_align, y_align at each station point\n",
    "fp = Alignment_points\n",
    "alignment_points_df = gpd.read_file(fp)\n",
    "#type(alignment_points_df)\n",
    "alignment_points_df.head()\n",
    "\n",
    "# create columns for Easting and Northing, then delete columns cat_ and geometry                          #ToDo KLK\n",
    "\n",
    "\n"
   ]
  },
  {
   "cell_type": "code",
   "execution_count": 14,
   "metadata": {
    "collapsed": true
   },
   "outputs": [],
   "source": [
    "# interpolate alignment elevations at all station points and write to alignment_points_df                 #ToDo KLK\n",
    "#   join alignment_points_df with alignment_df\n",
    "#   required output data: z_align at each station point                #ToDo JK: make into z interpolation function\n",
    "\n",
    "\n"
   ]
  },
  {
   "cell_type": "code",
   "execution_count": 26,
   "metadata": {},
   "outputs": [
    {
     "name": "stdout",
     "output_type": "stream",
     "text": [
      "Warning: Not all input layers use the same CRS.\n",
      "This can cause unexpected results.\n"
     ]
    },
    {
     "data": {
      "text/plain": [
       "{'output': 'tmp/TestAlignmentDTM.csv'}"
      ]
     },
     "execution_count": 26,
     "metadata": {},
     "output_type": "execute_result"
    }
   ],
   "source": [
    "# use grass7:r.what.points to get DTM value for z for points along alignment and write to .csv file\n",
    "processing.runalg(                                                         #ToDo JK: make into what.points function\n",
    "                  \"grass7:r.what.points\",DTM,Alignment_points,\n",
    "                  \"NA\",\",\",500,True,False,False,False,False,\n",
    "                  \"2603510.0,2624270.0,1260650.0,1274890.0\",-1,0.0001,Alignment_DTM\n",
    "                 )\n",
    "#out = open(Alignment_DTM, 'r')\n",
    "#print(out.read())  #check"
   ]
  },
  {
   "cell_type": "code",
   "execution_count": 16,
   "metadata": {
    "collapsed": true
   },
   "outputs": [],
   "source": [
    "# read Alignment_DTM csv and write to alignment_points_df             #ToDo JK: reuse function csv -> df from above\n",
    "#   required output data: z_dtm at each station point\n",
    "\n",
    "\n",
    "\n"
   ]
  },
  {
   "cell_type": "code",
   "execution_count": 17,
   "metadata": {},
   "outputs": [
    {
     "name": "stdout",
     "output_type": "stream",
     "text": [
      "buffer: [2612060 1268065]\n",
      "r: 55.0\n",
      "intvls_r: 2\n",
      "intvls_c: 17\n"
     ]
    }
   ],
   "source": [
    "# prepare circular grid as buffer around a station point and determine minimal distance to terrain surface \n",
    "#   this calculation is defined as a function, to be applied at each station point\n",
    "#   inputs are easting, northing, overburden at stationed point (and a coeff for buffer_radius = coeff*cover) \n",
    "\n",
    "# input data  #temporarily static\n",
    "point = np.array([2612060, 1268065])  #station point [from alignment_points_df]\n",
    "h = 110.0  #overburden depth above station point [calculate from alignment_points_df]\n",
    "\n",
    "def make_buffer(point, overburden):\n",
    "    c = 0.5  #buffer radius = c*h\n",
    "    res = 20.0  #nominal grid resolution \n",
    "    intvls_r = int(h*c / res)  #number of intervals along the buffer radius, close enough\n",
    "    res_r = h*c / intvls_r  #effective resolution along the radius\n",
    "    buffer = np.array(point)  #initialize buffer, first item is exactly at station point\n",
    "    print(\"buffer: \"+str(buffer))\n",
    "\n",
    "    # calculate local coordinates for grid along a ring\n",
    "    for i in range(intvls_r):\n",
    "        r = c*h - i*res_r\n",
    "        perim = 2 * r * pi \n",
    "        intvls_c = int(perim/res)  #number of intervals along a ring, close enough\n",
    "        item = np.array([0.0, 0.0])  #initialize\n",
    "        for j in range(intvls_c):\n",
    "            item[0] = (sin((2*pi) / intvls_c *(j+1)) *r) + point[0]\n",
    "            item[1] = (cos((2*pi) / intvls_c *(j+1)) *r) + point[1]\n",
    "            buffer = np.vstack((buffer, item))  #vstack works with arrays of diff nr of items, append does not        \n",
    "\n",
    "        print(\"r: \"+str(r))\n",
    "        print(\"intvls_r: \"+str(intvls_r))\n",
    "        print(\"intvls_c: \"+str(intvls_c))\n",
    "        return buffer\n",
    "        \n",
    "buffer = make_buffer(point=point, overburden=h)        "
   ]
  },
  {
   "cell_type": "code",
   "execution_count": 24,
   "metadata": {},
   "outputs": [],
   "source": [
    "# use make_buffer to get buffer grid points at all station points along alignment                         #ToDo KLK\n",
    "#   write buffer points to buffer_df and to alignment_points_df\n",
    "#   required output data: id_align, id_buffer, x_buffer, y_buffer, z_dtm at each buffer point  \n",
    "\n",
    "# temporary code for handling one buffer\n",
    "# create Buffer_SHP for grass from buffer\n",
    "crs = {'init': 'epsg:2056'}  #define crs\n",
    "\n",
    "buffer_df = pd.DataFrame.from_records(data=buffer, columns=['Easting', 'Northing'], index=None)\n",
    "#buffer_df\n",
    "\n",
    "\n",
    "\n"
   ]
  },
  {
   "cell_type": "code",
   "execution_count": 19,
   "metadata": {},
   "outputs": [
    {
     "name": "stdout",
     "output_type": "stream",
     "text": [
      "tmp/TestBuffer.shp\n"
     ]
    }
   ],
   "source": [
    "# create shp file with all buffer points                                         #ToDo JK: reuse df -> shp function\n",
    "buffer_points = [sp.geometry.Point(row['Easting'], row['Northing'])\n",
    "                 for key, row in buffer_df.iterrows()]\n",
    "#len(buffer_points)  #check\n",
    "\n",
    "# write buffer to Buffer_SHP as shape file\n",
    "buffer_spatial = gpd.GeoDataFrame(buffer_df, geometry=buffer_points, crs = crs)\n",
    "buffer_spatial.to_file(Buffer_SHP, driver='ESRI Shapefile') \n",
    "#print(buffer_spatial)  #check\n",
    "print(Buffer_SHP)"
   ]
  },
  {
   "cell_type": "code",
   "execution_count": 22,
   "metadata": {},
   "outputs": [
    {
     "name": "stdout",
     "output_type": "stream",
     "text": [
      "Warning: Not all input layers use the same CRS.\n",
      "This can cause unexpected results.\n",
      "easting,northing,site_name,tmp1515237634929\n",
      "2612060,1268065,,256.412\n",
      "2612079.86829164,1268116.28597262,,256.6162\n",
      "2612097.0532604,1268105.64549045,,256.5174\n",
      "2612109.23398102,1268089.51560957,,256.5334\n",
      "2612114.7653797,1268070.07475977,,256.4881\n",
      "2612112.90041037,1268049.94853555,,256.3598\n",
      "2612103.8909475,1268031.855095,,256.6074\n",
      "2612088.95376896,1268018.23805753,,256.6067\n",
      "2612070.10622348,1268010.93647952,,256.6189\n",
      "2612049.89377652,1268010.93647952,,256.6505\n",
      "2612031.04623104,1268018.23805753,,256.4118\n",
      "2612016.1090525,1268031.855095,,256.4726\n",
      "2612007.09958963,1268049.94853555,,256.4409\n",
      "2612005.2346203,1268070.07475977,,256.3811\n",
      "2612010.76601898,1268089.51560957,,256.5326\n",
      "2612022.9467396,1268105.64549045,,256.7122\n",
      "2612040.13170836,1268116.28597262,,257.1815\n",
      "2612060,1268120,,256.6701\n",
      "\n"
     ]
    }
   ],
   "source": [
    "# use grass7:r.what.points to read Buffer_SHP to get z_dtm at each buffer point for all station points\n",
    "\n",
    "# temporary code for handling one buffer\n",
    "# use grass7:r.what.points to read Buffer_SHP to get z_dtm at each point\n",
    "test_buffer_csv = \"tmp/test_buffer.csv\"\n",
    "# buffer_SHP = {'init': 'epsg:2056'}  #define crs\n",
    "processing.runalg(\"grass7:r.what.points\",DTM,Buffer_SHP,            #ToDo JK: reuse what.points function from above\n",
    "                  \"NA\",\",\",500,True,False,False,False,False,\n",
    "                  \"2603510.0,2624270.0,1260650.0,1274890.0\",-1,0.0001,test_buffer_csv\n",
    "                 )\n",
    "\n",
    "out = open(test_buffer_csv, 'r')\n",
    "print(out.read())  #check"
   ]
  },
  {
   "cell_type": "code",
   "execution_count": null,
   "metadata": {
    "collapsed": true
   },
   "outputs": [],
   "source": [
    "# read buffer points from Test_buffer_csv into alignment_points_df\n",
    "#   required output data: id_align, id_buffer, x_buffer, y_buffer, z_dtm at each buffer point  \n",
    "                                                                      #ToDo JK: reuse function csv -> df from above\n",
    "\n",
    "\n",
    "\n"
   ]
  },
  {
   "cell_type": "code",
   "execution_count": null,
   "metadata": {
    "collapsed": true
   },
   "outputs": [],
   "source": [
    "# calculate minimum distance to terrain in each buffer ring\n",
    "#   required output data: dist for each buffer point, min_dist for buffer ring\n",
    "\n",
    "\n",
    "\n"
   ]
  },
  {
   "cell_type": "code",
   "execution_count": null,
   "metadata": {
    "collapsed": true
   },
   "outputs": [],
   "source": [
    "# calculate hydraulic confinement safety factor at each station point\n",
    "#   required input data: reference maximum water pressure elevation (static or dynamic ??) \n",
    "\n",
    "\n",
    "\n"
   ]
  },
  {
   "cell_type": "code",
   "execution_count": null,
   "metadata": {
    "collapsed": true
   },
   "outputs": [],
   "source": [
    "# plot results for hydraulic confinement safety factor as horizontal bar beneath longitudinal profile \n",
    "\n",
    "\n",
    "\n"
   ]
  }
 ],
 "metadata": {
  "kernelspec": {
   "display_name": "Python 2",
   "language": "python",
   "name": "python2"
  },
  "language_info": {
   "codemirror_mode": {
    "name": "ipython",
    "version": 2
   },
   "file_extension": ".py",
   "mimetype": "text/x-python",
   "name": "python",
   "nbconvert_exporter": "python",
   "pygments_lexer": "ipython2",
   "version": "2.7.12"
  }
 },
 "nbformat": 4,
 "nbformat_minor": 2
}
