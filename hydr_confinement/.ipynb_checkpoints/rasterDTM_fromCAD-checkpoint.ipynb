{
 "cells": [
  {
   "cell_type": "code",
   "execution_count": 1,
   "metadata": {
    "collapsed": true
   },
   "outputs": [],
   "source": [
    "# procedure for determining reading DXF file from CAD\n",
    "# and converting to raster DTM\n",
    "# and producing hillslpe raster \n",
    "\n",
    "# see notes in 2017.12.29.DecisionSupportSystem.PythonApps.Notes\n",
    "# algorithms that make use of iface, such as QGIS Field Calculator, will not run with standalone scripts\n",
    "# v.build.all is not available with runalg\n",
    "# coordinate conversion does not work for me with runalg\n",
    "# --> work on this procedure on hold until qgis 3.0\n",
    "\n",
    "# project name: 'Nam Ang'"
   ]
  },
  {
   "cell_type": "code",
   "execution_count": 2,
   "metadata": {
    "collapsed": true
   },
   "outputs": [],
   "source": [
    "# ToDo\n",
    "#   put common functions (e.g. setup, data format conversions) into a separate module/API\n",
    "#   use Nam Ang HEP data for initial testing and demo\n",
    "#   document procdeure in Jupyter Notebook"
   ]
  },
  {
   "cell_type": "code",
   "execution_count": 3,
   "metadata": {},
   "outputs": [
    {
     "data": {
      "text/html": [
       "<script>requirejs.config({paths: { 'plotly': ['https://cdn.plot.ly/plotly-latest.min']},});if(!window.Plotly) {{require(['plotly'],function(plotly) {window.Plotly=plotly;});}}</script>"
      ],
      "text/vnd.plotly.v1+html": [
       "<script>requirejs.config({paths: { 'plotly': ['https://cdn.plot.ly/plotly-latest.min']},});if(!window.Plotly) {{require(['plotly'],function(plotly) {window.Plotly=plotly;});}}</script>"
      ]
     },
     "metadata": {},
     "output_type": "display_data"
    },
    {
     "name": "stdout",
     "output_type": "stream",
     "text": [
      "2.2.1\n"
     ]
    }
   ],
   "source": [
    "# import required python libraires\n",
    "import numpy as np\n",
    "from numpy import *\n",
    "import pandas as pd\n",
    "import geopandas as gpd\n",
    "import shapely as sp\n",
    "import matplotlib.pylab as pylab\n",
    "import matplotlib.pyplot as plt\n",
    "%matplotlib inline\n",
    "import plotly.plotly as py\n",
    "#import plotly.graph_objs as go\n",
    "\n",
    "# set up plotly in 'offline' mode\n",
    "# this should be documented\n",
    "\n",
    "from plotly import __version__\n",
    "from plotly.offline import download_plotlyjs, init_notebook_mode, plot,iplot\n",
    "import plotly.graph_objs as go\n",
    "init_notebook_mode(connected=True)\n",
    "print (__version__) # requires version >= 1.9.0\n",
    "\n",
    "# collect all plotly setups here\n",
    "\n",
    "import plotly.offline as plotly  #testing\n",
    "\n",
    "from plotly.graph_objs import *  #testing"
   ]
  },
  {
   "cell_type": "code",
   "execution_count": 4,
   "metadata": {
    "collapsed": true
   },
   "outputs": [],
   "source": [
    "# # python setup for qgis processing\n",
    "# import sys, os\n",
    "# from qgis.core import QgsApplication\n",
    "# from qgis.gui import QgsMapCanvas  #testing for field calculator\n",
    "# from PyQt4.QtGui import QApplication\n",
    "# app = QApplication([], True)  #True -> window display enabled\n",
    "# QgsApplication.setPrefixPath(\"/usr\", True)\n",
    "# QgsApplication.initQgis()\n",
    "# sys.path.append('/usr/share/qgis/python/plugins')  #export PYTHONPATH not needed in start script\n",
    "\n",
    "\n",
    "\n",
    "# # #testing for field calculator\n",
    "# # import qgis.utils\n",
    "# # from qgis.analysis import *\n",
    "\n",
    "# #testing for field calculator\n",
    "# # Get an iface object  \n",
    "# canvas = QgsMapCanvas()\n",
    "# ##from processing.tests.qgis_interface import QgisInterface  #no module  ...\n",
    "# ##from qgis_interface import QgisInterface  #no module  ...\n",
    "# from qgis.gui import QgisInterface\n",
    "\n",
    "# ##iface = QgisInterface( canvas )\n",
    "# # Initialize the Processing plugin passing an iface object\n",
    "# #from processing.ProcessingPlugin import ProcessingPlugin\n",
    "# #plugin = ProcessingPlugin(iface)\n",
    "# #from processing.tools import *\n",
    "\n",
    "# from processing.core.Processing import Processing\n",
    "# Processing.initialize() \n",
    "# import processing\n",
    "\n",
    "# from processing.tools import *  \n",
    "\n",
    "# # This is a 'fake' iface since we are not using a interface here\n",
    "# class DummyIface(object):\n",
    "\n",
    "#     def __init__(self):\n",
    "#         self.destCrs = None\n",
    "\n",
    "# processing.classFactory(DummyIface())\n"
   ]
  },
  {
   "cell_type": "code",
   "execution_count": 5,
   "metadata": {},
   "outputs": [
    {
     "name": "stdout",
     "output_type": "stream",
     "text": [
      "QGIS successfully Initialised\n"
     ]
    },
    {
     "data": {
      "text/plain": [
       "<processing.ProcessingPlugin.ProcessingPlugin instance at 0x7faba8524a28>"
      ]
     },
     "execution_count": 5,
     "metadata": {},
     "output_type": "execute_result"
    }
   ],
   "source": [
    "# alternative python setup for qgis processing\n",
    "\n",
    "import sys, os\n",
    "# Import only what you're going to use\n",
    "from qgis.core import QgsApplication, QgsRasterLayer\n",
    "\n",
    "# You can add this path to your system's environment so you don't have to type it here\n",
    "sys.path.append('/usr/share/qgis/python/plugins')  #export PYTHONPATH not needed in start script\n",
    "from processing.core.Processing import Processing\n",
    "import processing\n",
    "\n",
    "# This is a 'fake' iface since we are not using a interface here\n",
    "class DummyIface(object):\n",
    "\n",
    "    def __init__(self):\n",
    "        self.destCrs = None\n",
    "\n",
    "# Pass QgsApplication to an object and you can use it just like a QApplication\n",
    "app = QgsApplication([], True)\n",
    "app.initQgis()\n",
    "print \"QGIS successfully Initialised\"\n",
    "\n",
    "# I took the freedom to change the way you used processing here, just to be sure it will work\n",
    "processing.classFactory(DummyIface())"
   ]
  },
  {
   "cell_type": "code",
   "execution_count": 6,
   "metadata": {
    "collapsed": true
   },
   "outputs": [],
   "source": [
    "# set wd for this procedure and project \n",
    "os.chdir(\"/home/kaelin_joseph/DSS.HydraulicConfinement/\")"
   ]
  },
  {
   "cell_type": "code",
   "execution_count": 7,
   "metadata": {
    "collapsed": true
   },
   "outputs": [],
   "source": [
    "# define required input files\n",
    "contours_dxf = \"data/incoming/topo nam ang.dxf\"  #DEM with surface topography\n"
   ]
  },
  {
   "cell_type": "code",
   "execution_count": 8,
   "metadata": {
    "collapsed": true
   },
   "outputs": [],
   "source": [
    "# define required input data\n",
    "# mapping\n",
    "crs = {'init': 'epsg:32648'}  #define crs for project\n",
    "grass_region = \"726000,729500,1670500,1674000\"  #map region E1,E2,N1,N2"
   ]
  },
  {
   "cell_type": "code",
   "execution_count": 9,
   "metadata": {
    "collapsed": true
   },
   "outputs": [],
   "source": [
    "# define temporary data\n",
    "vectorDEM = 'tmp/VectorDEM.shp'\n",
    "vectorDEM_z = 'tmp/VectorDEM_z.shp'\n"
   ]
  },
  {
   "cell_type": "code",
   "execution_count": 10,
   "metadata": {
    "collapsed": true
   },
   "outputs": [],
   "source": [
    "# define output data\n",
    "DTM = 'data/incoming/NamAngRasterDEM.tif'\n",
    "DTM_slope='data/incoming/NamAngRasterSlope.tif'\n"
   ]
  },
  {
   "cell_type": "code",
   "execution_count": 11,
   "metadata": {},
   "outputs": [
    {
     "data": {
      "text/plain": [
       "{'output': 'tmp/VectorDEM.shp'}"
      ]
     },
     "execution_count": 11,
     "metadata": {},
     "output_type": "execute_result"
    }
   ],
   "source": [
    "\n",
    "processing.runalg(\"grass7:v.in.dxf\",\n",
    "                  contours_dxf,\n",
    "                  \"\",True,False,True,False,False,True,grass_region,0,vectorDEM)\n"
   ]
  },
  {
   "cell_type": "code",
   "execution_count": 12,
   "metadata": {},
   "outputs": [
    {
     "data": {
      "text/plain": [
       "{'OUTPUT_LAYER': 'tmp/VectorDEM_z.shp'}"
      ]
     },
     "execution_count": 12,
     "metadata": {},
     "output_type": "execute_result"
    }
   ],
   "source": [
    "\n",
    "processing.runalg(\"qgis:fieldcalculator\",\n",
    "                  vectorDEM,\n",
    "                  \"z\",0,10,3,True,\"z(start_point($geometry))\",vectorDEM_z) \n",
    "\n",
    "#processing.runalg('qgis:fieldcalculator', \n",
    "#                  input, \n",
    "#                  field_name, type_field, width, precision, Create new field, formula, output)\n",
    "\n",
    "#processing.alghelp(\"qgis:fieldcalculator\")\n",
    "#processing.alghelp(\"qgis:advancedpythonfieldcalculator\")"
   ]
  },
  {
   "cell_type": "code",
   "execution_count": 19,
   "metadata": {},
   "outputs": [
    {
     "name": "stdout",
     "output_type": "stream",
     "text": [
      "Algorithm not found\n"
     ]
    }
   ],
   "source": [
    "processing.alghelp(\"grass7:v.build.all\")"
   ]
  },
  {
   "cell_type": "code",
   "execution_count": null,
   "metadata": {
    "collapsed": true
   },
   "outputs": [],
   "source": []
  },
  {
   "cell_type": "code",
   "execution_count": null,
   "metadata": {
    "collapsed": true
   },
   "outputs": [],
   "source": []
  },
  {
   "cell_type": "code",
   "execution_count": 15,
   "metadata": {
    "collapsed": true
   },
   "outputs": [],
   "source": [
    "#processing.runalg(\"grass7:r.slope\",DTM, 2,False,1,0,grass_region,0,DTM_slope)"
   ]
  },
  {
   "cell_type": "code",
   "execution_count": 16,
   "metadata": {
    "collapsed": true
   },
   "outputs": [],
   "source": [
    "# need to read in 'slope' and get slope values for all buffer grid points 'MIN'\n",
    "\n",
    "\n"
   ]
  }
 ],
 "metadata": {
  "kernelspec": {
   "display_name": "Python 2",
   "language": "python",
   "name": "python2"
  },
  "language_info": {
   "codemirror_mode": {
    "name": "ipython",
    "version": 2
   },
   "file_extension": ".py",
   "mimetype": "text/x-python",
   "name": "python",
   "nbconvert_exporter": "python",
   "pygments_lexer": "ipython2",
   "version": "2.7.12"
  }
 },
 "nbformat": 4,
 "nbformat_minor": 2
}
